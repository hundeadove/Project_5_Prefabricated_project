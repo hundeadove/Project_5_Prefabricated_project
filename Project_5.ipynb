{
 "cells": [
  {
   "cell_type": "markdown",
   "id": "527ecd20",
   "metadata": {},
   "source": [
    "# Сборный проект "
   ]
  },
  {
   "cell_type": "markdown",
   "id": "ee7e4902",
   "metadata": {},
   "source": [
    "**Описание проекта**\n",
    "\n",
    "Вы работаете в интернет-магазине «Стримчик», который продаёт по всему миру компьютерные игры. Из открытых источников доступны исторические данные о продажах игр, оценки пользователей и экспертов, жанры и платформы (например, Xbox или PlayStation). Вам нужно выявить определяющие успешность игры закономерности. Это позволит сделать ставку на потенциально популярный продукт и спланировать рекламные кампании.\n",
    "\n",
    "Перед вами данные до 2016 года. Представим, что сейчас декабрь 2016 г., и вы планируете кампанию на 2017-й. Нужно отработать принцип работы с данными. Неважно, прогнозируете ли вы продажи на 2017 год по данным 2016-го или же 2027-й — по данным 2026 года.\n",
    "\n",
    "В наборе данных попадается аббревиатура ESRB (Entertainment Software Rating Board) — это ассоциация, определяющая возрастной рейтинг компьютерных игр. ESRB оценивает игровой контент и присваивает ему подходящую возрастную категорию, например, «Для взрослых», «Для детей младшего возраста» или «Для подростков»."
   ]
  },
  {
   "cell_type": "markdown",
   "id": "982b0327",
   "metadata": {},
   "source": [
    "**Описание данных**\n",
    "\n",
    "* Name — название игры \n",
    "* Platform — платформа\n",
    "* Year_of_Release — год выпуска\n",
    "* Genre — жанр игры\n",
    "* NA_sales — продажи в Северной Америке (миллионы проданных копий)\n",
    "* EU_sales — продажи в Европе (миллионы проданных копий)\n",
    "* JP_sales — продажи в Японии (миллионы проданных копий)\n",
    "* Other_sales — продажи в других странах (миллионы проданных копий)\n",
    "* Critic_Score — оценка критиков (максимум 100)\n",
    "* User_Score — оценка пользователей (максимум 10)\n",
    "* Rating — рейтинг от организации ESRB (англ. Entertainment Software Rating Board). Эта ассоциация определяет рейтинг компьютерных игр и присваивает им подходящую возрастную категорию.\n",
    "\n",
    "Данные за 2016 год могут быть неполными."
   ]
  },
  {
   "cell_type": "markdown",
   "id": "e1d8902a",
   "metadata": {},
   "source": [
    "**План работы:**\n",
    "1. Загурзки данных и библиотек.\n",
    "2. Предобработка данных:\n",
    "* Приведение к нижнему регистру.\n",
    "* Обработка пропусков.\n",
    "* Преобразование данных в нужный тип.\n",
    "* Подсчет суммарных продаж во всех регионах.\n",
    "* Обработка дубликатов.\n",
    "3. Исследовательский анализ данных:\n",
    "* Посмотреть, сколько игр выпускалось в разные годы.\n",
    "* Проанализировать, как менялись продажи по платформам. \n",
    "* Выбрать платформы с наибольшими суммарными продажами и построить распределение по годам. \n",
    "* Выбрать несколько потенциально прибыльных платформ.\n",
    "* Построить график «ящик с усами» по глобальным продажам игр в разбивке по платформам.\n",
    "* Проанализировать, как влияют на продажи внутри одной популярной платформы отзывы пользователей и критиков. \n",
    "* Построить диаграмму рассеяния и посчитайте корреляцию между отзывами и продажами.\n",
    "* Посмотреть на общее распределение игр по жанрам.\n",
    "4.  Составить портрет пользователя каждого региона.\n",
    "* Определить для пользователя каждого региона (NA, EU, JP):\n",
    "* * Самые популярные платформы (топ-5).\n",
    "* * Самые популярные жанры (топ-5). \n",
    "* * Понять, влияет ли рейтинг ESRB на продажи в отдельном регионе?\n",
    "5. Проверить гипотезы:\n",
    "* Средние пользовательские рейтинги платформ Xbox One и PC одинаковые;\n",
    "* Средние пользовательские рейтинги жанров Action (англ. «действие», экшен-игры) и Sports (англ. «спортивные соревнования») разные.\n",
    "6. Итоговый вывод."
   ]
  },
  {
   "cell_type": "markdown",
   "id": "d8b0db48",
   "metadata": {},
   "source": [
    "## Загрузка данных и библиотек"
   ]
  },
  {
   "cell_type": "code",
   "execution_count": 1,
   "id": "d40f8ef3",
   "metadata": {},
   "outputs": [],
   "source": [
    "import pandas as pd\n",
    "import numpy as np\n",
    "import matplotlib.pyplot as plt\n",
    "import seaborn as sns\n",
    "from scipy import stats as st"
   ]
  },
  {
   "cell_type": "code",
   "execution_count": 2,
   "id": "22f943bb",
   "metadata": {},
   "outputs": [],
   "source": [
    "df = pd.read_csv(r'~/games.csv')"
   ]
  },
  {
   "cell_type": "code",
   "execution_count": 3,
   "id": "ce60a7f0",
   "metadata": {},
   "outputs": [
    {
     "name": "stdout",
     "output_type": "stream",
     "text": [
      "<class 'pandas.core.frame.DataFrame'>\n",
      "RangeIndex: 16715 entries, 0 to 16714\n",
      "Data columns (total 11 columns):\n",
      " #   Column           Non-Null Count  Dtype  \n",
      "---  ------           --------------  -----  \n",
      " 0   Name             16713 non-null  object \n",
      " 1   Platform         16715 non-null  object \n",
      " 2   Year_of_Release  16446 non-null  float64\n",
      " 3   Genre            16713 non-null  object \n",
      " 4   NA_sales         16715 non-null  float64\n",
      " 5   EU_sales         16715 non-null  float64\n",
      " 6   JP_sales         16715 non-null  float64\n",
      " 7   Other_sales      16715 non-null  float64\n",
      " 8   Critic_Score     8137 non-null   float64\n",
      " 9   User_Score       10014 non-null  object \n",
      " 10  Rating           9949 non-null   object \n",
      "dtypes: float64(6), object(5)\n",
      "memory usage: 1.4+ MB\n"
     ]
    },
    {
     "data": {
      "text/html": [
       "<div>\n",
       "<style scoped>\n",
       "    .dataframe tbody tr th:only-of-type {\n",
       "        vertical-align: middle;\n",
       "    }\n",
       "\n",
       "    .dataframe tbody tr th {\n",
       "        vertical-align: top;\n",
       "    }\n",
       "\n",
       "    .dataframe thead th {\n",
       "        text-align: right;\n",
       "    }\n",
       "</style>\n",
       "<table border=\"1\" class=\"dataframe\">\n",
       "  <thead>\n",
       "    <tr style=\"text-align: right;\">\n",
       "      <th></th>\n",
       "      <th>Name</th>\n",
       "      <th>Platform</th>\n",
       "      <th>Year_of_Release</th>\n",
       "      <th>Genre</th>\n",
       "      <th>NA_sales</th>\n",
       "      <th>EU_sales</th>\n",
       "      <th>JP_sales</th>\n",
       "      <th>Other_sales</th>\n",
       "      <th>Critic_Score</th>\n",
       "      <th>User_Score</th>\n",
       "      <th>Rating</th>\n",
       "    </tr>\n",
       "  </thead>\n",
       "  <tbody>\n",
       "    <tr>\n",
       "      <th>0</th>\n",
       "      <td>Wii Sports</td>\n",
       "      <td>Wii</td>\n",
       "      <td>2006.0</td>\n",
       "      <td>Sports</td>\n",
       "      <td>41.36</td>\n",
       "      <td>28.96</td>\n",
       "      <td>3.77</td>\n",
       "      <td>8.45</td>\n",
       "      <td>76.0</td>\n",
       "      <td>8</td>\n",
       "      <td>E</td>\n",
       "    </tr>\n",
       "    <tr>\n",
       "      <th>1</th>\n",
       "      <td>Super Mario Bros.</td>\n",
       "      <td>NES</td>\n",
       "      <td>1985.0</td>\n",
       "      <td>Platform</td>\n",
       "      <td>29.08</td>\n",
       "      <td>3.58</td>\n",
       "      <td>6.81</td>\n",
       "      <td>0.77</td>\n",
       "      <td>NaN</td>\n",
       "      <td>NaN</td>\n",
       "      <td>NaN</td>\n",
       "    </tr>\n",
       "    <tr>\n",
       "      <th>2</th>\n",
       "      <td>Mario Kart Wii</td>\n",
       "      <td>Wii</td>\n",
       "      <td>2008.0</td>\n",
       "      <td>Racing</td>\n",
       "      <td>15.68</td>\n",
       "      <td>12.76</td>\n",
       "      <td>3.79</td>\n",
       "      <td>3.29</td>\n",
       "      <td>82.0</td>\n",
       "      <td>8.3</td>\n",
       "      <td>E</td>\n",
       "    </tr>\n",
       "    <tr>\n",
       "      <th>3</th>\n",
       "      <td>Wii Sports Resort</td>\n",
       "      <td>Wii</td>\n",
       "      <td>2009.0</td>\n",
       "      <td>Sports</td>\n",
       "      <td>15.61</td>\n",
       "      <td>10.93</td>\n",
       "      <td>3.28</td>\n",
       "      <td>2.95</td>\n",
       "      <td>80.0</td>\n",
       "      <td>8</td>\n",
       "      <td>E</td>\n",
       "    </tr>\n",
       "    <tr>\n",
       "      <th>4</th>\n",
       "      <td>Pokemon Red/Pokemon Blue</td>\n",
       "      <td>GB</td>\n",
       "      <td>1996.0</td>\n",
       "      <td>Role-Playing</td>\n",
       "      <td>11.27</td>\n",
       "      <td>8.89</td>\n",
       "      <td>10.22</td>\n",
       "      <td>1.00</td>\n",
       "      <td>NaN</td>\n",
       "      <td>NaN</td>\n",
       "      <td>NaN</td>\n",
       "    </tr>\n",
       "    <tr>\n",
       "      <th>5</th>\n",
       "      <td>Tetris</td>\n",
       "      <td>GB</td>\n",
       "      <td>1989.0</td>\n",
       "      <td>Puzzle</td>\n",
       "      <td>23.20</td>\n",
       "      <td>2.26</td>\n",
       "      <td>4.22</td>\n",
       "      <td>0.58</td>\n",
       "      <td>NaN</td>\n",
       "      <td>NaN</td>\n",
       "      <td>NaN</td>\n",
       "    </tr>\n",
       "    <tr>\n",
       "      <th>6</th>\n",
       "      <td>New Super Mario Bros.</td>\n",
       "      <td>DS</td>\n",
       "      <td>2006.0</td>\n",
       "      <td>Platform</td>\n",
       "      <td>11.28</td>\n",
       "      <td>9.14</td>\n",
       "      <td>6.50</td>\n",
       "      <td>2.88</td>\n",
       "      <td>89.0</td>\n",
       "      <td>8.5</td>\n",
       "      <td>E</td>\n",
       "    </tr>\n",
       "    <tr>\n",
       "      <th>7</th>\n",
       "      <td>Wii Play</td>\n",
       "      <td>Wii</td>\n",
       "      <td>2006.0</td>\n",
       "      <td>Misc</td>\n",
       "      <td>13.96</td>\n",
       "      <td>9.18</td>\n",
       "      <td>2.93</td>\n",
       "      <td>2.84</td>\n",
       "      <td>58.0</td>\n",
       "      <td>6.6</td>\n",
       "      <td>E</td>\n",
       "    </tr>\n",
       "    <tr>\n",
       "      <th>8</th>\n",
       "      <td>New Super Mario Bros. Wii</td>\n",
       "      <td>Wii</td>\n",
       "      <td>2009.0</td>\n",
       "      <td>Platform</td>\n",
       "      <td>14.44</td>\n",
       "      <td>6.94</td>\n",
       "      <td>4.70</td>\n",
       "      <td>2.24</td>\n",
       "      <td>87.0</td>\n",
       "      <td>8.4</td>\n",
       "      <td>E</td>\n",
       "    </tr>\n",
       "    <tr>\n",
       "      <th>9</th>\n",
       "      <td>Duck Hunt</td>\n",
       "      <td>NES</td>\n",
       "      <td>1984.0</td>\n",
       "      <td>Shooter</td>\n",
       "      <td>26.93</td>\n",
       "      <td>0.63</td>\n",
       "      <td>0.28</td>\n",
       "      <td>0.47</td>\n",
       "      <td>NaN</td>\n",
       "      <td>NaN</td>\n",
       "      <td>NaN</td>\n",
       "    </tr>\n",
       "  </tbody>\n",
       "</table>\n",
       "</div>"
      ],
      "text/plain": [
       "                        Name Platform  Year_of_Release         Genre  \\\n",
       "0                 Wii Sports      Wii           2006.0        Sports   \n",
       "1          Super Mario Bros.      NES           1985.0      Platform   \n",
       "2             Mario Kart Wii      Wii           2008.0        Racing   \n",
       "3          Wii Sports Resort      Wii           2009.0        Sports   \n",
       "4   Pokemon Red/Pokemon Blue       GB           1996.0  Role-Playing   \n",
       "5                     Tetris       GB           1989.0        Puzzle   \n",
       "6      New Super Mario Bros.       DS           2006.0      Platform   \n",
       "7                   Wii Play      Wii           2006.0          Misc   \n",
       "8  New Super Mario Bros. Wii      Wii           2009.0      Platform   \n",
       "9                  Duck Hunt      NES           1984.0       Shooter   \n",
       "\n",
       "   NA_sales  EU_sales  JP_sales  Other_sales  Critic_Score User_Score Rating  \n",
       "0     41.36     28.96      3.77         8.45          76.0          8      E  \n",
       "1     29.08      3.58      6.81         0.77           NaN        NaN    NaN  \n",
       "2     15.68     12.76      3.79         3.29          82.0        8.3      E  \n",
       "3     15.61     10.93      3.28         2.95          80.0          8      E  \n",
       "4     11.27      8.89     10.22         1.00           NaN        NaN    NaN  \n",
       "5     23.20      2.26      4.22         0.58           NaN        NaN    NaN  \n",
       "6     11.28      9.14      6.50         2.88          89.0        8.5      E  \n",
       "7     13.96      9.18      2.93         2.84          58.0        6.6      E  \n",
       "8     14.44      6.94      4.70         2.24          87.0        8.4      E  \n",
       "9     26.93      0.63      0.28         0.47           NaN        NaN    NaN  "
      ]
     },
     "execution_count": 3,
     "metadata": {},
     "output_type": "execute_result"
    }
   ],
   "source": [
    "df.info()\n",
    "df.head(10)"
   ]
  },
  {
   "cell_type": "code",
   "execution_count": 4,
   "id": "91f8fefd",
   "metadata": {},
   "outputs": [
    {
     "data": {
      "text/html": [
       "<div>\n",
       "<style scoped>\n",
       "    .dataframe tbody tr th:only-of-type {\n",
       "        vertical-align: middle;\n",
       "    }\n",
       "\n",
       "    .dataframe tbody tr th {\n",
       "        vertical-align: top;\n",
       "    }\n",
       "\n",
       "    .dataframe thead th {\n",
       "        text-align: right;\n",
       "    }\n",
       "</style>\n",
       "<table border=\"1\" class=\"dataframe\">\n",
       "  <thead>\n",
       "    <tr style=\"text-align: right;\">\n",
       "      <th></th>\n",
       "      <th>Year_of_Release</th>\n",
       "      <th>NA_sales</th>\n",
       "      <th>EU_sales</th>\n",
       "      <th>JP_sales</th>\n",
       "      <th>Other_sales</th>\n",
       "      <th>Critic_Score</th>\n",
       "    </tr>\n",
       "  </thead>\n",
       "  <tbody>\n",
       "    <tr>\n",
       "      <th>count</th>\n",
       "      <td>16446.000000</td>\n",
       "      <td>16715.000000</td>\n",
       "      <td>16715.000000</td>\n",
       "      <td>16715.000000</td>\n",
       "      <td>16715.000000</td>\n",
       "      <td>8137.000000</td>\n",
       "    </tr>\n",
       "    <tr>\n",
       "      <th>mean</th>\n",
       "      <td>2006.484616</td>\n",
       "      <td>0.263377</td>\n",
       "      <td>0.145060</td>\n",
       "      <td>0.077617</td>\n",
       "      <td>0.047342</td>\n",
       "      <td>68.967679</td>\n",
       "    </tr>\n",
       "    <tr>\n",
       "      <th>std</th>\n",
       "      <td>5.877050</td>\n",
       "      <td>0.813604</td>\n",
       "      <td>0.503339</td>\n",
       "      <td>0.308853</td>\n",
       "      <td>0.186731</td>\n",
       "      <td>13.938165</td>\n",
       "    </tr>\n",
       "    <tr>\n",
       "      <th>min</th>\n",
       "      <td>1980.000000</td>\n",
       "      <td>0.000000</td>\n",
       "      <td>0.000000</td>\n",
       "      <td>0.000000</td>\n",
       "      <td>0.000000</td>\n",
       "      <td>13.000000</td>\n",
       "    </tr>\n",
       "    <tr>\n",
       "      <th>25%</th>\n",
       "      <td>2003.000000</td>\n",
       "      <td>0.000000</td>\n",
       "      <td>0.000000</td>\n",
       "      <td>0.000000</td>\n",
       "      <td>0.000000</td>\n",
       "      <td>60.000000</td>\n",
       "    </tr>\n",
       "    <tr>\n",
       "      <th>50%</th>\n",
       "      <td>2007.000000</td>\n",
       "      <td>0.080000</td>\n",
       "      <td>0.020000</td>\n",
       "      <td>0.000000</td>\n",
       "      <td>0.010000</td>\n",
       "      <td>71.000000</td>\n",
       "    </tr>\n",
       "    <tr>\n",
       "      <th>75%</th>\n",
       "      <td>2010.000000</td>\n",
       "      <td>0.240000</td>\n",
       "      <td>0.110000</td>\n",
       "      <td>0.040000</td>\n",
       "      <td>0.030000</td>\n",
       "      <td>79.000000</td>\n",
       "    </tr>\n",
       "    <tr>\n",
       "      <th>max</th>\n",
       "      <td>2016.000000</td>\n",
       "      <td>41.360000</td>\n",
       "      <td>28.960000</td>\n",
       "      <td>10.220000</td>\n",
       "      <td>10.570000</td>\n",
       "      <td>98.000000</td>\n",
       "    </tr>\n",
       "  </tbody>\n",
       "</table>\n",
       "</div>"
      ],
      "text/plain": [
       "       Year_of_Release      NA_sales      EU_sales      JP_sales  \\\n",
       "count     16446.000000  16715.000000  16715.000000  16715.000000   \n",
       "mean       2006.484616      0.263377      0.145060      0.077617   \n",
       "std           5.877050      0.813604      0.503339      0.308853   \n",
       "min        1980.000000      0.000000      0.000000      0.000000   \n",
       "25%        2003.000000      0.000000      0.000000      0.000000   \n",
       "50%        2007.000000      0.080000      0.020000      0.000000   \n",
       "75%        2010.000000      0.240000      0.110000      0.040000   \n",
       "max        2016.000000     41.360000     28.960000     10.220000   \n",
       "\n",
       "        Other_sales  Critic_Score  \n",
       "count  16715.000000   8137.000000  \n",
       "mean       0.047342     68.967679  \n",
       "std        0.186731     13.938165  \n",
       "min        0.000000     13.000000  \n",
       "25%        0.000000     60.000000  \n",
       "50%        0.010000     71.000000  \n",
       "75%        0.030000     79.000000  \n",
       "max       10.570000     98.000000  "
      ]
     },
     "metadata": {},
     "output_type": "display_data"
    },
    {
     "data": {
      "image/png": "[encoded data removed]",
      "text/plain": [
       "<Figure size 1080x1440 with 6 Axes>"
      ]
     },
     "metadata": {
      "needs_background": "light"
     },
     "output_type": "display_data"
    }
   ],
   "source": [
    "display(df.describe())\n",
    "df.hist(figsize = (15, 20));"
   ]
  },
  {
   "cell_type": "markdown",
   "id": "32348308",
   "metadata": {},
   "source": [
    "Датафрейм имеет 11 столбцов и 16715 строк. Есть пропуски во многих колонках. Выбросы пока не обнаружены. Неоптимальный тип данных у User_Score. Необходимо привести названия столбцов к \"змеиному\" регистру. Возможно присутствуют дубликаты."
   ]
  },
  {
   "cell_type": "markdown",
   "id": "1f45849d",
   "metadata": {},
   "source": [
    "## Предобработка данных"
   ]
  },
  {
   "cell_type": "code",
   "execution_count": 5,
   "id": "657de7ee",
   "metadata": {},
   "outputs": [],
   "source": [
    "#приведем названия столбцев к \"змеиному\" регистру\n",
    "df.columns = df.columns.str.lower()"
   ]
  },
  {
   "cell_type": "code",
   "execution_count": 7,
   "id": "53166134",
   "metadata": {},
   "outputs": [
    {
     "data": {
      "text/plain": [
       "Index(['name', 'platform', 'year_of_release', 'genre', 'na_sales', 'eu_sales',\n",
       "       'jp_sales', 'other_sales', 'critic_score', 'user_score', 'rating'],\n",
       "      dtype='object')"
      ]
     },
     "execution_count": 7,
     "metadata": {},
     "output_type": "execute_result"
    }
   ],
   "source": [
    "df.columns"
   ]
  },
  {
   "cell_type": "code",
   "execution_count": 8,
   "id": "95c49644",
   "metadata": {},
   "outputs": [
    {
     "data": {
      "text/plain": [
       "NaN    6701\n",
       "tbd    2424\n",
       "7.8     324\n",
       "8       290\n",
       "8.2     282\n",
       "       ... \n",
       "1.1       2\n",
       "1.9       2\n",
       "9.6       2\n",
       "0         1\n",
       "9.7       1\n",
       "Name: user_score, Length: 97, dtype: int64"
      ]
     },
     "execution_count": 8,
     "metadata": {},
     "output_type": "execute_result"
    }
   ],
   "source": [
    "df['user_score'].value_counts(dropna=False)"
   ]
  },
  {
   "cell_type": "markdown",
   "id": "9d711ee2",
   "metadata": {},
   "source": [
    "tbd (англ. to be discussed)  переводится как \"подлежит уточнению\". Скорее всего, пользователи либо не успели поставить свою оценку, либо забыли изменить ответ, либо техническая ошибка. Возможно, есть данные в другом файле, где указано, какие оценки пользователи поставили вместо tbd, когда определились с ответом. Это стоит уточнить у тех, кто предоставил данные."
   ]
  },
  {
   "cell_type": "code",
   "execution_count": 9,
   "id": "09305efe",
   "metadata": {},
   "outputs": [
    {
     "name": "stdout",
     "output_type": "stream",
     "text": [
      "<class 'pandas.core.frame.DataFrame'>\n",
      "RangeIndex: 16715 entries, 0 to 16714\n",
      "Data columns (total 11 columns):\n",
      " #   Column           Non-Null Count  Dtype  \n",
      "---  ------           --------------  -----  \n",
      " 0   name             16713 non-null  object \n",
      " 1   platform         16715 non-null  object \n",
      " 2   year_of_release  16446 non-null  float64\n",
      " 3   genre            16713 non-null  object \n",
      " 4   na_sales         16715 non-null  float64\n",
      " 5   eu_sales         16715 non-null  float64\n",
      " 6   jp_sales         16715 non-null  float64\n",
      " 7   other_sales      16715 non-null  float64\n",
      " 8   critic_score     8137 non-null   float64\n",
      " 9   user_score       7590 non-null   float64\n",
      " 10  rating           9949 non-null   object \n",
      "dtypes: float64(7), object(4)\n",
      "memory usage: 1.4+ MB\n"
     ]
    }
   ],
   "source": [
    "#изменим тип данных\n",
    "df['user_score'] = pd.to_numeric(df['user_score'], errors='coerce')\n",
    "df.info()"
   ]
  },
  {
   "cell_type": "code",
   "execution_count": 10,
   "id": "476c50e1",
   "metadata": {},
   "outputs": [
    {
     "data": {
      "text/plain": [
       "7.8    324\n",
       "8.0    290\n",
       "8.2    282\n",
       "8.3    254\n",
       "8.5    253\n",
       "      ... \n",
       "1.5      2\n",
       "0.3      2\n",
       "1.1      2\n",
       "0.0      1\n",
       "9.7      1\n",
       "Name: user_score, Length: 95, dtype: int64"
      ]
     },
     "execution_count": 10,
     "metadata": {},
     "output_type": "execute_result"
    }
   ],
   "source": [
    "df['user_score'].value_counts()"
   ]
  },
  {
   "cell_type": "code",
   "execution_count": 11,
   "id": "befe183a",
   "metadata": {},
   "outputs": [
    {
     "data": {
      "text/plain": [
       "name                  2\n",
       "platform              0\n",
       "year_of_release     269\n",
       "genre                 2\n",
       "na_sales              0\n",
       "eu_sales              0\n",
       "jp_sales              0\n",
       "other_sales           0\n",
       "critic_score       8578\n",
       "user_score         9125\n",
       "rating             6766\n",
       "dtype: int64"
      ]
     },
     "execution_count": 11,
     "metadata": {},
     "output_type": "execute_result"
    }
   ],
   "source": [
    "#посмотрим на пропуски в датафрейме\n",
    "df.isna().sum()"
   ]
  },
  {
   "cell_type": "code",
   "execution_count": 12,
   "id": "abf38e31",
   "metadata": {},
   "outputs": [],
   "source": [
    "#удалим пропуски, которые непосредственно влияют на результат\n",
    "df.dropna(subset=['name'], inplace=True)\n",
    "#заполним пропуски маркером\n",
    "df['user_score'] = df['user_score'].fillna(1000)\n",
    "df['critic_score'] = df['critic_score'].fillna(1000)\n",
    "df['rating'] = df['rating'].fillna(1000)"
   ]
  },
  {
   "cell_type": "code",
   "execution_count": 13,
   "id": "81a254a7",
   "metadata": {},
   "outputs": [
    {
     "data": {
      "text/plain": [
       "name                 0\n",
       "platform             0\n",
       "year_of_release    269\n",
       "genre                0\n",
       "na_sales             0\n",
       "eu_sales             0\n",
       "jp_sales             0\n",
       "other_sales          0\n",
       "critic_score         0\n",
       "user_score           0\n",
       "rating               0\n",
       "dtype: int64"
      ]
     },
     "execution_count": 13,
     "metadata": {},
     "output_type": "execute_result"
    }
   ],
   "source": [
    "df.isna().sum()"
   ]
  },
  {
   "cell_type": "markdown",
   "id": "b763178b",
   "metadata": {},
   "source": [
    "Пропуски в данных могли возникнуть вследствие либо технической ошибки (в столбцах \"name\", \"year_of_release\", \"critic_score\", \"rating\"), либо из-за невнимательности пользователей (в столбце \"user_score\"). Столбец \"year_of_release\" трогать не будем. Во-первых, мы не можем просто удалить пропуски, во-вторых, маркировку здесь лучше не использовать. Это может исказить данные или привести к ошибкам."
   ]
  },
  {
   "cell_type": "markdown",
   "id": "bc9c43c1",
   "metadata": {},
   "source": [
    "Посчитаем суммарные продажи во всех регионах и запишем их в отдельный столбец."
   ]
  },
  {
   "cell_type": "code",
   "execution_count": 15,
   "id": "d3968fe8",
   "metadata": {},
   "outputs": [
    {
     "data": {
      "text/html": [
       "<div>\n",
       "<style scoped>\n",
       "    .dataframe tbody tr th:only-of-type {\n",
       "        vertical-align: middle;\n",
       "    }\n",
       "\n",
       "    .dataframe tbody tr th {\n",
       "        vertical-align: top;\n",
       "    }\n",
       "\n",
       "    .dataframe thead th {\n",
       "        text-align: right;\n",
       "    }\n",
       "</style>\n",
       "<table border=\"1\" class=\"dataframe\">\n",
       "  <thead>\n",
       "    <tr style=\"text-align: right;\">\n",
       "      <th></th>\n",
       "      <th>name</th>\n",
       "      <th>platform</th>\n",
       "      <th>year_of_release</th>\n",
       "      <th>genre</th>\n",
       "      <th>na_sales</th>\n",
       "      <th>eu_sales</th>\n",
       "      <th>jp_sales</th>\n",
       "      <th>other_sales</th>\n",
       "      <th>critic_score</th>\n",
       "      <th>user_score</th>\n",
       "      <th>rating</th>\n",
       "      <th>sale</th>\n",
       "    </tr>\n",
       "  </thead>\n",
       "  <tbody>\n",
       "    <tr>\n",
       "      <th>0</th>\n",
       "      <td>Wii Sports</td>\n",
       "      <td>Wii</td>\n",
       "      <td>2006.0</td>\n",
       "      <td>Sports</td>\n",
       "      <td>41.36</td>\n",
       "      <td>28.96</td>\n",
       "      <td>3.77</td>\n",
       "      <td>8.45</td>\n",
       "      <td>76.0</td>\n",
       "      <td>8.0</td>\n",
       "      <td>E</td>\n",
       "      <td>82.54</td>\n",
       "    </tr>\n",
       "    <tr>\n",
       "      <th>1</th>\n",
       "      <td>Super Mario Bros.</td>\n",
       "      <td>NES</td>\n",
       "      <td>1985.0</td>\n",
       "      <td>Platform</td>\n",
       "      <td>29.08</td>\n",
       "      <td>3.58</td>\n",
       "      <td>6.81</td>\n",
       "      <td>0.77</td>\n",
       "      <td>1000.0</td>\n",
       "      <td>1000.0</td>\n",
       "      <td>1000</td>\n",
       "      <td>40.24</td>\n",
       "    </tr>\n",
       "    <tr>\n",
       "      <th>2</th>\n",
       "      <td>Mario Kart Wii</td>\n",
       "      <td>Wii</td>\n",
       "      <td>2008.0</td>\n",
       "      <td>Racing</td>\n",
       "      <td>15.68</td>\n",
       "      <td>12.76</td>\n",
       "      <td>3.79</td>\n",
       "      <td>3.29</td>\n",
       "      <td>82.0</td>\n",
       "      <td>8.3</td>\n",
       "      <td>E</td>\n",
       "      <td>35.52</td>\n",
       "    </tr>\n",
       "    <tr>\n",
       "      <th>3</th>\n",
       "      <td>Wii Sports Resort</td>\n",
       "      <td>Wii</td>\n",
       "      <td>2009.0</td>\n",
       "      <td>Sports</td>\n",
       "      <td>15.61</td>\n",
       "      <td>10.93</td>\n",
       "      <td>3.28</td>\n",
       "      <td>2.95</td>\n",
       "      <td>80.0</td>\n",
       "      <td>8.0</td>\n",
       "      <td>E</td>\n",
       "      <td>32.77</td>\n",
       "    </tr>\n",
       "    <tr>\n",
       "      <th>4</th>\n",
       "      <td>Pokemon Red/Pokemon Blue</td>\n",
       "      <td>GB</td>\n",
       "      <td>1996.0</td>\n",
       "      <td>Role-Playing</td>\n",
       "      <td>11.27</td>\n",
       "      <td>8.89</td>\n",
       "      <td>10.22</td>\n",
       "      <td>1.00</td>\n",
       "      <td>1000.0</td>\n",
       "      <td>1000.0</td>\n",
       "      <td>1000</td>\n",
       "      <td>31.38</td>\n",
       "    </tr>\n",
       "    <tr>\n",
       "      <th>5</th>\n",
       "      <td>Tetris</td>\n",
       "      <td>GB</td>\n",
       "      <td>1989.0</td>\n",
       "      <td>Puzzle</td>\n",
       "      <td>23.20</td>\n",
       "      <td>2.26</td>\n",
       "      <td>4.22</td>\n",
       "      <td>0.58</td>\n",
       "      <td>1000.0</td>\n",
       "      <td>1000.0</td>\n",
       "      <td>1000</td>\n",
       "      <td>30.26</td>\n",
       "    </tr>\n",
       "    <tr>\n",
       "      <th>6</th>\n",
       "      <td>New Super Mario Bros.</td>\n",
       "      <td>DS</td>\n",
       "      <td>2006.0</td>\n",
       "      <td>Platform</td>\n",
       "      <td>11.28</td>\n",
       "      <td>9.14</td>\n",
       "      <td>6.50</td>\n",
       "      <td>2.88</td>\n",
       "      <td>89.0</td>\n",
       "      <td>8.5</td>\n",
       "      <td>E</td>\n",
       "      <td>29.80</td>\n",
       "    </tr>\n",
       "    <tr>\n",
       "      <th>7</th>\n",
       "      <td>Wii Play</td>\n",
       "      <td>Wii</td>\n",
       "      <td>2006.0</td>\n",
       "      <td>Misc</td>\n",
       "      <td>13.96</td>\n",
       "      <td>9.18</td>\n",
       "      <td>2.93</td>\n",
       "      <td>2.84</td>\n",
       "      <td>58.0</td>\n",
       "      <td>6.6</td>\n",
       "      <td>E</td>\n",
       "      <td>28.91</td>\n",
       "    </tr>\n",
       "    <tr>\n",
       "      <th>8</th>\n",
       "      <td>New Super Mario Bros. Wii</td>\n",
       "      <td>Wii</td>\n",
       "      <td>2009.0</td>\n",
       "      <td>Platform</td>\n",
       "      <td>14.44</td>\n",
       "      <td>6.94</td>\n",
       "      <td>4.70</td>\n",
       "      <td>2.24</td>\n",
       "      <td>87.0</td>\n",
       "      <td>8.4</td>\n",
       "      <td>E</td>\n",
       "      <td>28.32</td>\n",
       "    </tr>\n",
       "    <tr>\n",
       "      <th>9</th>\n",
       "      <td>Duck Hunt</td>\n",
       "      <td>NES</td>\n",
       "      <td>1984.0</td>\n",
       "      <td>Shooter</td>\n",
       "      <td>26.93</td>\n",
       "      <td>0.63</td>\n",
       "      <td>0.28</td>\n",
       "      <td>0.47</td>\n",
       "      <td>1000.0</td>\n",
       "      <td>1000.0</td>\n",
       "      <td>1000</td>\n",
       "      <td>28.31</td>\n",
       "    </tr>\n",
       "    <tr>\n",
       "      <th>10</th>\n",
       "      <td>Nintendogs</td>\n",
       "      <td>DS</td>\n",
       "      <td>2005.0</td>\n",
       "      <td>Simulation</td>\n",
       "      <td>9.05</td>\n",
       "      <td>10.95</td>\n",
       "      <td>1.93</td>\n",
       "      <td>2.74</td>\n",
       "      <td>1000.0</td>\n",
       "      <td>1000.0</td>\n",
       "      <td>1000</td>\n",
       "      <td>24.67</td>\n",
       "    </tr>\n",
       "    <tr>\n",
       "      <th>11</th>\n",
       "      <td>Mario Kart DS</td>\n",
       "      <td>DS</td>\n",
       "      <td>2005.0</td>\n",
       "      <td>Racing</td>\n",
       "      <td>9.71</td>\n",
       "      <td>7.47</td>\n",
       "      <td>4.13</td>\n",
       "      <td>1.90</td>\n",
       "      <td>91.0</td>\n",
       "      <td>8.6</td>\n",
       "      <td>E</td>\n",
       "      <td>23.21</td>\n",
       "    </tr>\n",
       "    <tr>\n",
       "      <th>12</th>\n",
       "      <td>Pokemon Gold/Pokemon Silver</td>\n",
       "      <td>GB</td>\n",
       "      <td>1999.0</td>\n",
       "      <td>Role-Playing</td>\n",
       "      <td>9.00</td>\n",
       "      <td>6.18</td>\n",
       "      <td>7.20</td>\n",
       "      <td>0.71</td>\n",
       "      <td>1000.0</td>\n",
       "      <td>1000.0</td>\n",
       "      <td>1000</td>\n",
       "      <td>23.09</td>\n",
       "    </tr>\n",
       "    <tr>\n",
       "      <th>13</th>\n",
       "      <td>Wii Fit</td>\n",
       "      <td>Wii</td>\n",
       "      <td>2007.0</td>\n",
       "      <td>Sports</td>\n",
       "      <td>8.92</td>\n",
       "      <td>8.03</td>\n",
       "      <td>3.60</td>\n",
       "      <td>2.15</td>\n",
       "      <td>80.0</td>\n",
       "      <td>7.7</td>\n",
       "      <td>E</td>\n",
       "      <td>22.70</td>\n",
       "    </tr>\n",
       "    <tr>\n",
       "      <th>14</th>\n",
       "      <td>Kinect Adventures!</td>\n",
       "      <td>X360</td>\n",
       "      <td>2010.0</td>\n",
       "      <td>Misc</td>\n",
       "      <td>15.00</td>\n",
       "      <td>4.89</td>\n",
       "      <td>0.24</td>\n",
       "      <td>1.69</td>\n",
       "      <td>61.0</td>\n",
       "      <td>6.3</td>\n",
       "      <td>E</td>\n",
       "      <td>21.82</td>\n",
       "    </tr>\n",
       "    <tr>\n",
       "      <th>15</th>\n",
       "      <td>Wii Fit Plus</td>\n",
       "      <td>Wii</td>\n",
       "      <td>2009.0</td>\n",
       "      <td>Sports</td>\n",
       "      <td>9.01</td>\n",
       "      <td>8.49</td>\n",
       "      <td>2.53</td>\n",
       "      <td>1.77</td>\n",
       "      <td>80.0</td>\n",
       "      <td>7.4</td>\n",
       "      <td>E</td>\n",
       "      <td>21.80</td>\n",
       "    </tr>\n",
       "    <tr>\n",
       "      <th>16</th>\n",
       "      <td>Grand Theft Auto V</td>\n",
       "      <td>PS3</td>\n",
       "      <td>2013.0</td>\n",
       "      <td>Action</td>\n",
       "      <td>7.02</td>\n",
       "      <td>9.09</td>\n",
       "      <td>0.98</td>\n",
       "      <td>3.96</td>\n",
       "      <td>97.0</td>\n",
       "      <td>8.2</td>\n",
       "      <td>M</td>\n",
       "      <td>21.05</td>\n",
       "    </tr>\n",
       "    <tr>\n",
       "      <th>17</th>\n",
       "      <td>Grand Theft Auto: San Andreas</td>\n",
       "      <td>PS2</td>\n",
       "      <td>2004.0</td>\n",
       "      <td>Action</td>\n",
       "      <td>9.43</td>\n",
       "      <td>0.40</td>\n",
       "      <td>0.41</td>\n",
       "      <td>10.57</td>\n",
       "      <td>95.0</td>\n",
       "      <td>9.0</td>\n",
       "      <td>M</td>\n",
       "      <td>20.81</td>\n",
       "    </tr>\n",
       "    <tr>\n",
       "      <th>18</th>\n",
       "      <td>Super Mario World</td>\n",
       "      <td>SNES</td>\n",
       "      <td>1990.0</td>\n",
       "      <td>Platform</td>\n",
       "      <td>12.78</td>\n",
       "      <td>3.75</td>\n",
       "      <td>3.54</td>\n",
       "      <td>0.55</td>\n",
       "      <td>1000.0</td>\n",
       "      <td>1000.0</td>\n",
       "      <td>1000</td>\n",
       "      <td>20.62</td>\n",
       "    </tr>\n",
       "    <tr>\n",
       "      <th>19</th>\n",
       "      <td>Brain Age: Train Your Brain in Minutes a Day</td>\n",
       "      <td>DS</td>\n",
       "      <td>2005.0</td>\n",
       "      <td>Misc</td>\n",
       "      <td>4.74</td>\n",
       "      <td>9.20</td>\n",
       "      <td>4.16</td>\n",
       "      <td>2.04</td>\n",
       "      <td>77.0</td>\n",
       "      <td>7.9</td>\n",
       "      <td>E</td>\n",
       "      <td>20.14</td>\n",
       "    </tr>\n",
       "  </tbody>\n",
       "</table>\n",
       "</div>"
      ],
      "text/plain": [
       "                                            name platform  year_of_release  \\\n",
       "0                                     Wii Sports      Wii           2006.0   \n",
       "1                              Super Mario Bros.      NES           1985.0   \n",
       "2                                 Mario Kart Wii      Wii           2008.0   \n",
       "3                              Wii Sports Resort      Wii           2009.0   \n",
       "4                       Pokemon Red/Pokemon Blue       GB           1996.0   \n",
       "5                                         Tetris       GB           1989.0   \n",
       "6                          New Super Mario Bros.       DS           2006.0   \n",
       "7                                       Wii Play      Wii           2006.0   \n",
       "8                      New Super Mario Bros. Wii      Wii           2009.0   \n",
       "9                                      Duck Hunt      NES           1984.0   \n",
       "10                                    Nintendogs       DS           2005.0   \n",
       "11                                 Mario Kart DS       DS           2005.0   \n",
       "12                   Pokemon Gold/Pokemon Silver       GB           1999.0   \n",
       "13                                       Wii Fit      Wii           2007.0   \n",
       "14                            Kinect Adventures!     X360           2010.0   \n",
       "15                                  Wii Fit Plus      Wii           2009.0   \n",
       "16                            Grand Theft Auto V      PS3           2013.0   \n",
       "17                 Grand Theft Auto: San Andreas      PS2           2004.0   \n",
       "18                             Super Mario World     SNES           1990.0   \n",
       "19  Brain Age: Train Your Brain in Minutes a Day       DS           2005.0   \n",
       "\n",
       "           genre  na_sales  eu_sales  jp_sales  other_sales  critic_score  \\\n",
       "0         Sports     41.36     28.96      3.77         8.45          76.0   \n",
       "1       Platform     29.08      3.58      6.81         0.77        1000.0   \n",
       "2         Racing     15.68     12.76      3.79         3.29          82.0   \n",
       "3         Sports     15.61     10.93      3.28         2.95          80.0   \n",
       "4   Role-Playing     11.27      8.89     10.22         1.00        1000.0   \n",
       "5         Puzzle     23.20      2.26      4.22         0.58        1000.0   \n",
       "6       Platform     11.28      9.14      6.50         2.88          89.0   \n",
       "7           Misc     13.96      9.18      2.93         2.84          58.0   \n",
       "8       Platform     14.44      6.94      4.70         2.24          87.0   \n",
       "9        Shooter     26.93      0.63      0.28         0.47        1000.0   \n",
       "10    Simulation      9.05     10.95      1.93         2.74        1000.0   \n",
       "11        Racing      9.71      7.47      4.13         1.90          91.0   \n",
       "12  Role-Playing      9.00      6.18      7.20         0.71        1000.0   \n",
       "13        Sports      8.92      8.03      3.60         2.15          80.0   \n",
       "14          Misc     15.00      4.89      0.24         1.69          61.0   \n",
       "15        Sports      9.01      8.49      2.53         1.77          80.0   \n",
       "16        Action      7.02      9.09      0.98         3.96          97.0   \n",
       "17        Action      9.43      0.40      0.41        10.57          95.0   \n",
       "18      Platform     12.78      3.75      3.54         0.55        1000.0   \n",
       "19          Misc      4.74      9.20      4.16         2.04          77.0   \n",
       "\n",
       "    user_score rating   sale  \n",
       "0          8.0      E  82.54  \n",
       "1       1000.0   1000  40.24  \n",
       "2          8.3      E  35.52  \n",
       "3          8.0      E  32.77  \n",
       "4       1000.0   1000  31.38  \n",
       "5       1000.0   1000  30.26  \n",
       "6          8.5      E  29.80  \n",
       "7          6.6      E  28.91  \n",
       "8          8.4      E  28.32  \n",
       "9       1000.0   1000  28.31  \n",
       "10      1000.0   1000  24.67  \n",
       "11         8.6      E  23.21  \n",
       "12      1000.0   1000  23.09  \n",
       "13         7.7      E  22.70  \n",
       "14         6.3      E  21.82  \n",
       "15         7.4      E  21.80  \n",
       "16         8.2      M  21.05  \n",
       "17         9.0      M  20.81  \n",
       "18      1000.0   1000  20.62  \n",
       "19         7.9      E  20.14  "
      ]
     },
     "execution_count": 15,
     "metadata": {},
     "output_type": "execute_result"
    }
   ],
   "source": [
    "df['sale'] = df['na_sales'] + df['eu_sales'] + df['jp_sales'] + df['other_sales']\n",
    "df.head(20)"
   ]
  },
  {
   "cell_type": "code",
   "execution_count": 16,
   "id": "6cf68fbb",
   "metadata": {},
   "outputs": [
    {
     "data": {
      "text/html": [
       "<div>\n",
       "<style scoped>\n",
       "    .dataframe tbody tr th:only-of-type {\n",
       "        vertical-align: middle;\n",
       "    }\n",
       "\n",
       "    .dataframe tbody tr th {\n",
       "        vertical-align: top;\n",
       "    }\n",
       "\n",
       "    .dataframe thead th {\n",
       "        text-align: right;\n",
       "    }\n",
       "</style>\n",
       "<table border=\"1\" class=\"dataframe\">\n",
       "  <thead>\n",
       "    <tr style=\"text-align: right;\">\n",
       "      <th></th>\n",
       "      <th>name</th>\n",
       "      <th>platform</th>\n",
       "      <th>year_of_release</th>\n",
       "      <th>genre</th>\n",
       "      <th>na_sales</th>\n",
       "      <th>eu_sales</th>\n",
       "      <th>jp_sales</th>\n",
       "      <th>other_sales</th>\n",
       "      <th>critic_score</th>\n",
       "      <th>user_score</th>\n",
       "      <th>rating</th>\n",
       "      <th>sale</th>\n",
       "    </tr>\n",
       "  </thead>\n",
       "  <tbody>\n",
       "    <tr>\n",
       "      <th>604</th>\n",
       "      <td>Madden NFL 13</td>\n",
       "      <td>PS3</td>\n",
       "      <td>2012.0</td>\n",
       "      <td>Sports</td>\n",
       "      <td>2.11</td>\n",
       "      <td>0.22</td>\n",
       "      <td>0.00</td>\n",
       "      <td>0.23</td>\n",
       "      <td>83.0</td>\n",
       "      <td>5.5</td>\n",
       "      <td>E</td>\n",
       "      <td>2.56</td>\n",
       "    </tr>\n",
       "    <tr>\n",
       "      <th>1190</th>\n",
       "      <td>Need for Speed: Most Wanted</td>\n",
       "      <td>X360</td>\n",
       "      <td>2012.0</td>\n",
       "      <td>Racing</td>\n",
       "      <td>0.62</td>\n",
       "      <td>0.78</td>\n",
       "      <td>0.01</td>\n",
       "      <td>0.15</td>\n",
       "      <td>83.0</td>\n",
       "      <td>8.5</td>\n",
       "      <td>T</td>\n",
       "      <td>1.56</td>\n",
       "    </tr>\n",
       "    <tr>\n",
       "      <th>1591</th>\n",
       "      <td>Need for Speed: Most Wanted</td>\n",
       "      <td>X360</td>\n",
       "      <td>2005.0</td>\n",
       "      <td>Racing</td>\n",
       "      <td>1.00</td>\n",
       "      <td>0.13</td>\n",
       "      <td>0.02</td>\n",
       "      <td>0.10</td>\n",
       "      <td>83.0</td>\n",
       "      <td>8.5</td>\n",
       "      <td>T</td>\n",
       "      <td>1.25</td>\n",
       "    </tr>\n",
       "    <tr>\n",
       "      <th>1745</th>\n",
       "      <td>Sonic the Hedgehog</td>\n",
       "      <td>PS3</td>\n",
       "      <td>2006.0</td>\n",
       "      <td>Platform</td>\n",
       "      <td>0.41</td>\n",
       "      <td>0.06</td>\n",
       "      <td>0.04</td>\n",
       "      <td>0.66</td>\n",
       "      <td>43.0</td>\n",
       "      <td>4.1</td>\n",
       "      <td>E10+</td>\n",
       "      <td>1.17</td>\n",
       "    </tr>\n",
       "    <tr>\n",
       "      <th>4127</th>\n",
       "      <td>Sonic the Hedgehog</td>\n",
       "      <td>PS3</td>\n",
       "      <td>NaN</td>\n",
       "      <td>Platform</td>\n",
       "      <td>0.00</td>\n",
       "      <td>0.48</td>\n",
       "      <td>0.00</td>\n",
       "      <td>0.00</td>\n",
       "      <td>43.0</td>\n",
       "      <td>4.1</td>\n",
       "      <td>E10+</td>\n",
       "      <td>0.48</td>\n",
       "    </tr>\n",
       "    <tr>\n",
       "      <th>5972</th>\n",
       "      <td>Need for Speed: Most Wanted</td>\n",
       "      <td>PC</td>\n",
       "      <td>2005.0</td>\n",
       "      <td>Racing</td>\n",
       "      <td>0.02</td>\n",
       "      <td>0.23</td>\n",
       "      <td>0.00</td>\n",
       "      <td>0.04</td>\n",
       "      <td>82.0</td>\n",
       "      <td>8.5</td>\n",
       "      <td>T</td>\n",
       "      <td>0.29</td>\n",
       "    </tr>\n",
       "    <tr>\n",
       "      <th>11715</th>\n",
       "      <td>Need for Speed: Most Wanted</td>\n",
       "      <td>PC</td>\n",
       "      <td>2012.0</td>\n",
       "      <td>Racing</td>\n",
       "      <td>0.00</td>\n",
       "      <td>0.06</td>\n",
       "      <td>0.00</td>\n",
       "      <td>0.02</td>\n",
       "      <td>82.0</td>\n",
       "      <td>8.5</td>\n",
       "      <td>T</td>\n",
       "      <td>0.08</td>\n",
       "    </tr>\n",
       "    <tr>\n",
       "      <th>16230</th>\n",
       "      <td>Madden NFL 13</td>\n",
       "      <td>PS3</td>\n",
       "      <td>2012.0</td>\n",
       "      <td>Sports</td>\n",
       "      <td>0.00</td>\n",
       "      <td>0.01</td>\n",
       "      <td>0.00</td>\n",
       "      <td>0.00</td>\n",
       "      <td>83.0</td>\n",
       "      <td>5.5</td>\n",
       "      <td>E</td>\n",
       "      <td>0.01</td>\n",
       "    </tr>\n",
       "  </tbody>\n",
       "</table>\n",
       "</div>"
      ],
      "text/plain": [
       "                              name platform  year_of_release     genre  \\\n",
       "604                  Madden NFL 13      PS3           2012.0    Sports   \n",
       "1190   Need for Speed: Most Wanted     X360           2012.0    Racing   \n",
       "1591   Need for Speed: Most Wanted     X360           2005.0    Racing   \n",
       "1745            Sonic the Hedgehog      PS3           2006.0  Platform   \n",
       "4127            Sonic the Hedgehog      PS3              NaN  Platform   \n",
       "5972   Need for Speed: Most Wanted       PC           2005.0    Racing   \n",
       "11715  Need for Speed: Most Wanted       PC           2012.0    Racing   \n",
       "16230                Madden NFL 13      PS3           2012.0    Sports   \n",
       "\n",
       "       na_sales  eu_sales  jp_sales  other_sales  critic_score  user_score  \\\n",
       "604        2.11      0.22      0.00         0.23          83.0         5.5   \n",
       "1190       0.62      0.78      0.01         0.15          83.0         8.5   \n",
       "1591       1.00      0.13      0.02         0.10          83.0         8.5   \n",
       "1745       0.41      0.06      0.04         0.66          43.0         4.1   \n",
       "4127       0.00      0.48      0.00         0.00          43.0         4.1   \n",
       "5972       0.02      0.23      0.00         0.04          82.0         8.5   \n",
       "11715      0.00      0.06      0.00         0.02          82.0         8.5   \n",
       "16230      0.00      0.01      0.00         0.00          83.0         5.5   \n",
       "\n",
       "      rating  sale  \n",
       "604        E  2.56  \n",
       "1190       T  1.56  \n",
       "1591       T  1.25  \n",
       "1745    E10+  1.17  \n",
       "4127    E10+  0.48  \n",
       "5972       T  0.29  \n",
       "11715      T  0.08  \n",
       "16230      E  0.01  "
      ]
     },
     "execution_count": 16,
     "metadata": {},
     "output_type": "execute_result"
    }
   ],
   "source": [
    "#просмотрим явные дубликаты\n",
    "df[df.duplicated(['name', 'platform'], keep=False)]"
   ]
  },
  {
   "cell_type": "code",
   "execution_count": 17,
   "id": "596ac4f6",
   "metadata": {},
   "outputs": [
    {
     "data": {
      "text/plain": [
       "Need for Speed: Most Wanted                         12\n",
       "Ratatouille                                          9\n",
       "LEGO Marvel Super Heroes                             9\n",
       "FIFA 14                                              9\n",
       "Madden NFL 07                                        9\n",
       "                                                    ..\n",
       "Jewels of the Tropical Lost Island                   1\n",
       "Sherlock Holmes and the Mystery of Osborne House     1\n",
       "The King of Fighters '95 (CD)                        1\n",
       "Megamind: Mega Team Unite                            1\n",
       "Haitaka no Psychedelica                              1\n",
       "Name: name, Length: 11559, dtype: int64"
      ]
     },
     "execution_count": 17,
     "metadata": {},
     "output_type": "execute_result"
    }
   ],
   "source": [
    "df['name'].value_counts()"
   ]
  },
  {
   "cell_type": "code",
   "execution_count": 18,
   "id": "59fb847b",
   "metadata": {},
   "outputs": [
    {
     "data": {
      "text/plain": [
       "PS2     2161\n",
       "DS      2151\n",
       "PS3     1331\n",
       "Wii     1320\n",
       "X360    1262\n",
       "PSP     1209\n",
       "PS      1197\n",
       "PC       974\n",
       "XB       824\n",
       "GBA      822\n",
       "GC       556\n",
       "3DS      520\n",
       "PSV      430\n",
       "PS4      392\n",
       "N64      319\n",
       "XOne     247\n",
       "SNES     239\n",
       "SAT      173\n",
       "WiiU     147\n",
       "2600     133\n",
       "NES       98\n",
       "GB        98\n",
       "DC        52\n",
       "GEN       27\n",
       "NG        12\n",
       "SCD        6\n",
       "WS         6\n",
       "3DO        3\n",
       "TG16       2\n",
       "GG         1\n",
       "PCFX       1\n",
       "Name: platform, dtype: int64"
      ]
     },
     "execution_count": 18,
     "metadata": {},
     "output_type": "execute_result"
    }
   ],
   "source": [
    "df['platform'].value_counts()"
   ]
  },
  {
   "cell_type": "code",
   "execution_count": 19,
   "id": "1f217d70",
   "metadata": {},
   "outputs": [],
   "source": [
    "#сохраним только одну строку из дубликатов\n",
    "df = df[~df.duplicated(['name', 'platform'], keep='first')]"
   ]
  },
  {
   "cell_type": "code",
   "execution_count": 20,
   "id": "9f66e4a5",
   "metadata": {},
   "outputs": [
    {
     "data": {
      "text/plain": [
       "0"
      ]
     },
     "execution_count": 20,
     "metadata": {},
     "output_type": "execute_result"
    }
   ],
   "source": [
    "#просмотрим неявные дубликаты\n",
    "df.duplicated(subset=['name', 'platform']).sum()"
   ]
  },
  {
   "cell_type": "code",
   "execution_count": 21,
   "id": "710a476a",
   "metadata": {},
   "outputs": [
    {
     "data": {
      "text/html": [
       "<div>\n",
       "<style scoped>\n",
       "    .dataframe tbody tr th:only-of-type {\n",
       "        vertical-align: middle;\n",
       "    }\n",
       "\n",
       "    .dataframe tbody tr th {\n",
       "        vertical-align: top;\n",
       "    }\n",
       "\n",
       "    .dataframe thead th {\n",
       "        text-align: right;\n",
       "    }\n",
       "</style>\n",
       "<table border=\"1\" class=\"dataframe\">\n",
       "  <thead>\n",
       "    <tr style=\"text-align: right;\">\n",
       "      <th></th>\n",
       "      <th>name</th>\n",
       "      <th>platform</th>\n",
       "      <th>year_of_release</th>\n",
       "      <th>genre</th>\n",
       "      <th>na_sales</th>\n",
       "      <th>eu_sales</th>\n",
       "      <th>jp_sales</th>\n",
       "      <th>other_sales</th>\n",
       "      <th>critic_score</th>\n",
       "      <th>user_score</th>\n",
       "      <th>rating</th>\n",
       "      <th>sale</th>\n",
       "    </tr>\n",
       "  </thead>\n",
       "  <tbody>\n",
       "  </tbody>\n",
       "</table>\n",
       "</div>"
      ],
      "text/plain": [
       "Empty DataFrame\n",
       "Columns: [name, platform, year_of_release, genre, na_sales, eu_sales, jp_sales, other_sales, critic_score, user_score, rating, sale]\n",
       "Index: []"
      ]
     },
     "execution_count": 21,
     "metadata": {},
     "output_type": "execute_result"
    }
   ],
   "source": [
    "#проверим\n",
    "df[df.duplicated(['name', 'platform'], keep=False)]"
   ]
  },
  {
   "cell_type": "markdown",
   "id": "2d0829b4",
   "metadata": {},
   "source": [
    "Итак, мы привели к нижнему регистру названия столбцов, обработали пропуски, преобразовали данные в нужный тип, обработали дубликаты, посчитали суммарные продажи во всех регионах и сохранили результат в отдельный столбец. Теперь мы имеем обработанный датасет, с которым можно дальше работать."
   ]
  },
  {
   "cell_type": "markdown",
   "id": "6ee4ada4",
   "metadata": {},
   "source": [
    "## Иследовательский анализ данных"
   ]
  },
  {
   "cell_type": "markdown",
   "id": "cd635151",
   "metadata": {},
   "source": [
    "Посмотрим сколько игр выпускалось в разные годы"
   ]
  },
  {
   "cell_type": "code",
   "execution_count": 22,
   "id": "77c06159",
   "metadata": {},
   "outputs": [
    {
     "data": {
      "text/plain": [
       "Text(0.5, 1.0, 'Выпуск игр в разные годы')"
      ]
     },
     "execution_count": 22,
     "metadata": {},
     "output_type": "execute_result"
    },
    {
     "data": {
      "image/png": "[encoded data removed]",
      "text/plain": [
       "<Figure size 432x288 with 1 Axes>"
      ]
     },
     "metadata": {
      "needs_background": "light"
     },
     "output_type": "display_data"
    }
   ],
   "source": [
    "df['year_of_release'].hist(bins=20, range=(1970, 2017))\n",
    "plt.xlabel('Год')\n",
    "plt.ylabel('Суммарное количество продаж')\n",
    "plt.title('Выпуск игр в разные годы')"
   ]
  },
  {
   "cell_type": "code",
   "execution_count": 23,
   "id": "c0bf2283",
   "metadata": {},
   "outputs": [
    {
     "data": {
      "text/html": [
       "<div>\n",
       "<style scoped>\n",
       "    .dataframe tbody tr th:only-of-type {\n",
       "        vertical-align: middle;\n",
       "    }\n",
       "\n",
       "    .dataframe tbody tr th {\n",
       "        vertical-align: top;\n",
       "    }\n",
       "\n",
       "    .dataframe thead th {\n",
       "        text-align: right;\n",
       "    }\n",
       "</style>\n",
       "<table border=\"1\" class=\"dataframe\">\n",
       "  <thead>\n",
       "    <tr style=\"text-align: right;\">\n",
       "      <th></th>\n",
       "      <th>count</th>\n",
       "    </tr>\n",
       "    <tr>\n",
       "      <th>year_of_release</th>\n",
       "      <th></th>\n",
       "    </tr>\n",
       "  </thead>\n",
       "  <tbody>\n",
       "    <tr>\n",
       "      <th>1980.0</th>\n",
       "      <td>9</td>\n",
       "    </tr>\n",
       "    <tr>\n",
       "      <th>1981.0</th>\n",
       "      <td>46</td>\n",
       "    </tr>\n",
       "    <tr>\n",
       "      <th>1982.0</th>\n",
       "      <td>36</td>\n",
       "    </tr>\n",
       "    <tr>\n",
       "      <th>1983.0</th>\n",
       "      <td>17</td>\n",
       "    </tr>\n",
       "    <tr>\n",
       "      <th>1984.0</th>\n",
       "      <td>14</td>\n",
       "    </tr>\n",
       "    <tr>\n",
       "      <th>1985.0</th>\n",
       "      <td>14</td>\n",
       "    </tr>\n",
       "    <tr>\n",
       "      <th>1986.0</th>\n",
       "      <td>21</td>\n",
       "    </tr>\n",
       "    <tr>\n",
       "      <th>1987.0</th>\n",
       "      <td>16</td>\n",
       "    </tr>\n",
       "    <tr>\n",
       "      <th>1988.0</th>\n",
       "      <td>15</td>\n",
       "    </tr>\n",
       "    <tr>\n",
       "      <th>1989.0</th>\n",
       "      <td>17</td>\n",
       "    </tr>\n",
       "    <tr>\n",
       "      <th>1990.0</th>\n",
       "      <td>16</td>\n",
       "    </tr>\n",
       "    <tr>\n",
       "      <th>1991.0</th>\n",
       "      <td>41</td>\n",
       "    </tr>\n",
       "    <tr>\n",
       "      <th>1992.0</th>\n",
       "      <td>43</td>\n",
       "    </tr>\n",
       "    <tr>\n",
       "      <th>1993.0</th>\n",
       "      <td>60</td>\n",
       "    </tr>\n",
       "    <tr>\n",
       "      <th>1994.0</th>\n",
       "      <td>121</td>\n",
       "    </tr>\n",
       "    <tr>\n",
       "      <th>1995.0</th>\n",
       "      <td>219</td>\n",
       "    </tr>\n",
       "    <tr>\n",
       "      <th>1996.0</th>\n",
       "      <td>263</td>\n",
       "    </tr>\n",
       "    <tr>\n",
       "      <th>1997.0</th>\n",
       "      <td>289</td>\n",
       "    </tr>\n",
       "    <tr>\n",
       "      <th>1998.0</th>\n",
       "      <td>379</td>\n",
       "    </tr>\n",
       "    <tr>\n",
       "      <th>1999.0</th>\n",
       "      <td>338</td>\n",
       "    </tr>\n",
       "    <tr>\n",
       "      <th>2000.0</th>\n",
       "      <td>350</td>\n",
       "    </tr>\n",
       "    <tr>\n",
       "      <th>2001.0</th>\n",
       "      <td>482</td>\n",
       "    </tr>\n",
       "    <tr>\n",
       "      <th>2002.0</th>\n",
       "      <td>829</td>\n",
       "    </tr>\n",
       "    <tr>\n",
       "      <th>2003.0</th>\n",
       "      <td>775</td>\n",
       "    </tr>\n",
       "    <tr>\n",
       "      <th>2004.0</th>\n",
       "      <td>762</td>\n",
       "    </tr>\n",
       "    <tr>\n",
       "      <th>2005.0</th>\n",
       "      <td>938</td>\n",
       "    </tr>\n",
       "    <tr>\n",
       "      <th>2006.0</th>\n",
       "      <td>1006</td>\n",
       "    </tr>\n",
       "    <tr>\n",
       "      <th>2007.0</th>\n",
       "      <td>1197</td>\n",
       "    </tr>\n",
       "    <tr>\n",
       "      <th>2008.0</th>\n",
       "      <td>1427</td>\n",
       "    </tr>\n",
       "    <tr>\n",
       "      <th>2009.0</th>\n",
       "      <td>1426</td>\n",
       "    </tr>\n",
       "    <tr>\n",
       "      <th>2010.0</th>\n",
       "      <td>1255</td>\n",
       "    </tr>\n",
       "    <tr>\n",
       "      <th>2011.0</th>\n",
       "      <td>1136</td>\n",
       "    </tr>\n",
       "    <tr>\n",
       "      <th>2012.0</th>\n",
       "      <td>651</td>\n",
       "    </tr>\n",
       "    <tr>\n",
       "      <th>2013.0</th>\n",
       "      <td>544</td>\n",
       "    </tr>\n",
       "    <tr>\n",
       "      <th>2014.0</th>\n",
       "      <td>581</td>\n",
       "    </tr>\n",
       "    <tr>\n",
       "      <th>2015.0</th>\n",
       "      <td>606</td>\n",
       "    </tr>\n",
       "    <tr>\n",
       "      <th>2016.0</th>\n",
       "      <td>502</td>\n",
       "    </tr>\n",
       "  </tbody>\n",
       "</table>\n",
       "</div>"
      ],
      "text/plain": [
       "                 count\n",
       "year_of_release       \n",
       "1980.0               9\n",
       "1981.0              46\n",
       "1982.0              36\n",
       "1983.0              17\n",
       "1984.0              14\n",
       "1985.0              14\n",
       "1986.0              21\n",
       "1987.0              16\n",
       "1988.0              15\n",
       "1989.0              17\n",
       "1990.0              16\n",
       "1991.0              41\n",
       "1992.0              43\n",
       "1993.0              60\n",
       "1994.0             121\n",
       "1995.0             219\n",
       "1996.0             263\n",
       "1997.0             289\n",
       "1998.0             379\n",
       "1999.0             338\n",
       "2000.0             350\n",
       "2001.0             482\n",
       "2002.0             829\n",
       "2003.0             775\n",
       "2004.0             762\n",
       "2005.0             938\n",
       "2006.0            1006\n",
       "2007.0            1197\n",
       "2008.0            1427\n",
       "2009.0            1426\n",
       "2010.0            1255\n",
       "2011.0            1136\n",
       "2012.0             651\n",
       "2013.0             544\n",
       "2014.0             581\n",
       "2015.0             606\n",
       "2016.0             502"
      ]
     },
     "execution_count": 23,
     "metadata": {},
     "output_type": "execute_result"
    }
   ],
   "source": [
    "#посмотрим выход каждой игры по годам\n",
    "df_agg = pd.pivot_table(df, index='year_of_release', values='name', aggfunc='count')\n",
    "df_agg.columns=['count']\n",
    "df_agg"
   ]
  },
  {
   "cell_type": "markdown",
   "id": "b1c3a336",
   "metadata": {},
   "source": [
    "Проанализировав график, можно сделать следующие выводы: заметно игры стали выпускаться где-то с начала 1980-х годов. Наблюдается маленький скачок, после идет затишье. Выпуски игр начинают расти с 1995 и дальше идут в гору с переменным падением. \n",
    "**Заметные глобальные продажи игр можно наблюдать с 2005 года.** Эти даннные наиболее важны для последующего анализа."
   ]
  },
  {
   "cell_type": "markdown",
   "id": "6df35e63",
   "metadata": {},
   "source": [
    "**Ранние годы (1980-1993)**\n",
    "\n",
    "В этот период индустрия видеоигр была относительно небольшой, с ограниченным количеством компаний и доступных игр. Отсутствие доступных технологий и инструментов программирования также ограничивало возможности разработчиков.\n",
    "\n",
    "**Рост и инновации (1997-2002)**\n",
    "\n",
    "Развитие персональных компьютеров и языков программирования привело к технологическому прорыву в индустрии видеоигр. Появление игровых движков и новых инструментов позволило разработчикам создавать более сложные и реалистичные игры.\n",
    "\n",
    "**Пик популярности (2009)**\n",
    "\n",
    "В 2009 году индустрия видеоигр достигла пика популярности. Распространение доступных и бесплатных игровых движков способствовало росту числа разработчиков и выпуску большого количества игр.\n",
    "\n",
    "**Спад и восстановление (2012-2016)**\n",
    "\n",
    "Экономический кризис оказал влияние на индустрию видеоигр, что привело к спаду в период с 2012 по 2016 год. Однако крупные студии-разработчики продолжали инвестировать в развитие своих игр, используя современные технологии и уделяя внимание игровому процессу и графике."
   ]
  },
  {
   "cell_type": "markdown",
   "id": "2fc673ac",
   "metadata": {},
   "source": [
    "Посмотрим, как менялись продажи по платформам. Выберем платформы с наибольшими суммарными продажами и построим распределение по годам. "
   ]
  },
  {
   "cell_type": "code",
   "execution_count": 24,
   "id": "d1a85012",
   "metadata": {},
   "outputs": [
    {
     "data": {
      "text/html": [
       "<div>\n",
       "<style scoped>\n",
       "    .dataframe tbody tr th:only-of-type {\n",
       "        vertical-align: middle;\n",
       "    }\n",
       "\n",
       "    .dataframe tbody tr th {\n",
       "        vertical-align: top;\n",
       "    }\n",
       "\n",
       "    .dataframe thead th {\n",
       "        text-align: right;\n",
       "    }\n",
       "</style>\n",
       "<table border=\"1\" class=\"dataframe\">\n",
       "  <thead>\n",
       "    <tr style=\"text-align: right;\">\n",
       "      <th></th>\n",
       "      <th>platform</th>\n",
       "      <th>sale</th>\n",
       "    </tr>\n",
       "  </thead>\n",
       "  <tbody>\n",
       "    <tr>\n",
       "      <th>0</th>\n",
       "      <td>PS2</td>\n",
       "      <td>1255.77</td>\n",
       "    </tr>\n",
       "    <tr>\n",
       "      <th>1</th>\n",
       "      <td>X360</td>\n",
       "      <td>970.17</td>\n",
       "    </tr>\n",
       "    <tr>\n",
       "      <th>2</th>\n",
       "      <td>PS3</td>\n",
       "      <td>939.16</td>\n",
       "    </tr>\n",
       "    <tr>\n",
       "      <th>3</th>\n",
       "      <td>Wii</td>\n",
       "      <td>907.51</td>\n",
       "    </tr>\n",
       "    <tr>\n",
       "      <th>4</th>\n",
       "      <td>DS</td>\n",
       "      <td>806.12</td>\n",
       "    </tr>\n",
       "    <tr>\n",
       "      <th>5</th>\n",
       "      <td>PS</td>\n",
       "      <td>730.86</td>\n",
       "    </tr>\n",
       "    <tr>\n",
       "      <th>6</th>\n",
       "      <td>GBA</td>\n",
       "      <td>317.85</td>\n",
       "    </tr>\n",
       "    <tr>\n",
       "      <th>7</th>\n",
       "      <td>PS4</td>\n",
       "      <td>314.14</td>\n",
       "    </tr>\n",
       "    <tr>\n",
       "      <th>8</th>\n",
       "      <td>PSP</td>\n",
       "      <td>294.05</td>\n",
       "    </tr>\n",
       "    <tr>\n",
       "      <th>9</th>\n",
       "      <td>PC</td>\n",
       "      <td>259.44</td>\n",
       "    </tr>\n",
       "    <tr>\n",
       "      <th>10</th>\n",
       "      <td>3DS</td>\n",
       "      <td>259.00</td>\n",
       "    </tr>\n",
       "    <tr>\n",
       "      <th>11</th>\n",
       "      <td>XB</td>\n",
       "      <td>257.74</td>\n",
       "    </tr>\n",
       "    <tr>\n",
       "      <th>12</th>\n",
       "      <td>GB</td>\n",
       "      <td>255.46</td>\n",
       "    </tr>\n",
       "    <tr>\n",
       "      <th>13</th>\n",
       "      <td>NES</td>\n",
       "      <td>251.05</td>\n",
       "    </tr>\n",
       "    <tr>\n",
       "      <th>14</th>\n",
       "      <td>N64</td>\n",
       "      <td>218.68</td>\n",
       "    </tr>\n",
       "    <tr>\n",
       "      <th>15</th>\n",
       "      <td>SNES</td>\n",
       "      <td>200.04</td>\n",
       "    </tr>\n",
       "    <tr>\n",
       "      <th>16</th>\n",
       "      <td>GC</td>\n",
       "      <td>198.93</td>\n",
       "    </tr>\n",
       "    <tr>\n",
       "      <th>17</th>\n",
       "      <td>XOne</td>\n",
       "      <td>159.32</td>\n",
       "    </tr>\n",
       "    <tr>\n",
       "      <th>18</th>\n",
       "      <td>2600</td>\n",
       "      <td>96.98</td>\n",
       "    </tr>\n",
       "    <tr>\n",
       "      <th>19</th>\n",
       "      <td>WiiU</td>\n",
       "      <td>82.19</td>\n",
       "    </tr>\n",
       "    <tr>\n",
       "      <th>20</th>\n",
       "      <td>PSV</td>\n",
       "      <td>54.07</td>\n",
       "    </tr>\n",
       "    <tr>\n",
       "      <th>21</th>\n",
       "      <td>SAT</td>\n",
       "      <td>33.59</td>\n",
       "    </tr>\n",
       "    <tr>\n",
       "      <th>22</th>\n",
       "      <td>GEN</td>\n",
       "      <td>28.35</td>\n",
       "    </tr>\n",
       "    <tr>\n",
       "      <th>23</th>\n",
       "      <td>DC</td>\n",
       "      <td>15.95</td>\n",
       "    </tr>\n",
       "    <tr>\n",
       "      <th>24</th>\n",
       "      <td>SCD</td>\n",
       "      <td>1.86</td>\n",
       "    </tr>\n",
       "    <tr>\n",
       "      <th>25</th>\n",
       "      <td>NG</td>\n",
       "      <td>1.44</td>\n",
       "    </tr>\n",
       "    <tr>\n",
       "      <th>26</th>\n",
       "      <td>WS</td>\n",
       "      <td>1.42</td>\n",
       "    </tr>\n",
       "    <tr>\n",
       "      <th>27</th>\n",
       "      <td>TG16</td>\n",
       "      <td>0.16</td>\n",
       "    </tr>\n",
       "    <tr>\n",
       "      <th>28</th>\n",
       "      <td>3DO</td>\n",
       "      <td>0.10</td>\n",
       "    </tr>\n",
       "    <tr>\n",
       "      <th>29</th>\n",
       "      <td>GG</td>\n",
       "      <td>0.04</td>\n",
       "    </tr>\n",
       "    <tr>\n",
       "      <th>30</th>\n",
       "      <td>PCFX</td>\n",
       "      <td>0.03</td>\n",
       "    </tr>\n",
       "  </tbody>\n",
       "</table>\n",
       "</div>"
      ],
      "text/plain": [
       "   platform     sale\n",
       "0       PS2  1255.77\n",
       "1      X360   970.17\n",
       "2       PS3   939.16\n",
       "3       Wii   907.51\n",
       "4        DS   806.12\n",
       "5        PS   730.86\n",
       "6       GBA   317.85\n",
       "7       PS4   314.14\n",
       "8       PSP   294.05\n",
       "9        PC   259.44\n",
       "10      3DS   259.00\n",
       "11       XB   257.74\n",
       "12       GB   255.46\n",
       "13      NES   251.05\n",
       "14      N64   218.68\n",
       "15     SNES   200.04\n",
       "16       GC   198.93\n",
       "17     XOne   159.32\n",
       "18     2600    96.98\n",
       "19     WiiU    82.19\n",
       "20      PSV    54.07\n",
       "21      SAT    33.59\n",
       "22      GEN    28.35\n",
       "23       DC    15.95\n",
       "24      SCD     1.86\n",
       "25       NG     1.44\n",
       "26       WS     1.42\n",
       "27     TG16     0.16\n",
       "28      3DO     0.10\n",
       "29       GG     0.04\n",
       "30     PCFX     0.03"
      ]
     },
     "execution_count": 24,
     "metadata": {},
     "output_type": "execute_result"
    }
   ],
   "source": [
    "top_platform = df.pivot_table(index='platform', values='sale', aggfunc='sum').sort_values(by='sale', ascending=False)\n",
    "top_platform.reset_index(inplace=True)\n",
    "#rename_axis(None, axis=1)\n",
    "top_platform"
   ]
  },
  {
   "cell_type": "markdown",
   "id": "f67ff5f7",
   "metadata": {},
   "source": [
    "Возьмем следующие платформы для анализа: PS2, X360, PS3, Wii, DS, PS. После PS идет большой разрыв в продажах, пэтому отсановимся на нем."
   ]
  },
  {
   "cell_type": "code",
   "execution_count": 25,
   "id": "79256682",
   "metadata": {},
   "outputs": [
    {
     "data": {
      "text/plain": [
       "['PS2', 'X360', 'PS3', 'Wii', 'DS', 'PS']"
      ]
     },
     "execution_count": 25,
     "metadata": {},
     "output_type": "execute_result"
    }
   ],
   "source": [
    "top_platform = top_platform[:6]\n",
    "#top_platforms = ['PS2', 'X360', 'PS3', 'Wii', 'DS', 'PS']\n",
    "top_platforms = top_platform.iloc[top_platform.index[:6]]['platform'].tolist()\n",
    "top_platforms"
   ]
  },
  {
   "cell_type": "code",
   "execution_count": 26,
   "id": "35d2bc9a",
   "metadata": {},
   "outputs": [
    {
     "data": {
      "image/png": "[encoded data removed]",
      "text/plain": [
       "<Figure size 720x432 with 1 Axes>"
      ]
     },
     "metadata": {
      "needs_background": "light"
     },
     "output_type": "display_data"
    }
   ],
   "source": [
    "plt.figure(figsize=(10, 6))\n",
    "\n",
    "for platform in top_platform['platform']:\n",
    "    df_platform = df[df['platform'] == platform]\n",
    "    df_platform = df_platform.groupby('year_of_release')['sale'].sum()\n",
    "    plt.plot(df_platform.index, df_platform.values, label=platform)\n",
    "    \n",
    "plt.xlabel('Год')\n",
    "plt.ylabel('Продажи')\n",
    "plt.title('Распределение продаж по годам для топ-платформ')\n",
    "plt.legend()\n",
    "plt.show()"
   ]
  },
  {
   "cell_type": "markdown",
   "id": "2b782d68",
   "metadata": {},
   "source": [
    "График показывает следующее: \n",
    "1. Платформа PS2 появилась 2000. Актуальна около 11 лет.\n",
    "2. Платформа X360 появилась 2005. Актуальна 10 лет.\n",
    "3. Платформа PS3 появилась 2006 и все еще существует в 2015.Актуальна 9 лет.\n",
    "4. Платформа Wii появилась 2005 и все еще существует в 2015. Была актуальна 10 лет.\n",
    "5. Платформа DS появилась 2004 и исчезла 2013. Была актуальна около 9 лет.\n",
    "6. Платформа PS появилась 1994 и исчезла 2003. Была актуальна 9 лет.\n",
    "\n",
    "Таким образом, \"срок службы\" платформы в среднем > 9 лет. Самыми продаваемыми платформами являются PS2 и X360. В среднем успех платформа достигает примерно спустя пять лет после запуска."
   ]
  },
  {
   "cell_type": "markdown",
   "id": "c3d0ba82",
   "metadata": {},
   "source": [
    "**Актуальный период** возьмем с 2014 года. "
   ]
  },
  {
   "cell_type": "markdown",
   "id": "65a149d7",
   "metadata": {},
   "source": [
    "Найдем, какие потенциально прибыльные платформы лидируют по продажам, растут или падают. Посмотрим их динамику за последние 10 лет."
   ]
  },
  {
   "cell_type": "code",
   "execution_count": 27,
   "id": "d05a202a",
   "metadata": {},
   "outputs": [
    {
     "data": {
      "image/png": "[encoded data removed]",
      "text/plain": [
       "<Figure size 720x432 with 1 Axes>"
      ]
     },
     "metadata": {
      "needs_background": "light"
     },
     "output_type": "display_data"
    }
   ],
   "source": [
    "plt.figure(figsize=(10, 6))\n",
    "\n",
    "for platform in top_platform['platform']:\n",
    "    df_platform = df[(df['platform'] == platform) & (df['year_of_release'] > 2004)]\n",
    "    df_platform = df_platform.groupby('year_of_release')['sale'].sum()\n",
    "    plt.plot(df_platform.index, df_platform.values, label=platform)\n",
    "    \n",
    "plt.xlabel('Год')\n",
    "plt.ylabel('Продажи')\n",
    "plt.title('Распределение продаж по годам для топ-платформ после 2005 года')\n",
    "plt.legend()\n",
    "plt.show()"
   ]
  },
  {
   "cell_type": "markdown",
   "id": "29822324",
   "metadata": {},
   "source": [
    "Анализ графика:\n",
    "\n",
    "* Продажи платформы PS2 медленно падают.\n",
    "* Пики прибыли платформы X360  выпали на 2008 и 2010 годы.\n",
    "* Пик прибыли PS3 - 2011 год, далее медленно падает.\n",
    "* Резкий скачок прибыли платформы Wii, далее такой же разкий спад.\n",
    "* Неплохая прибыль была у DS в период 2006-2009 года.\n",
    "* Платформа PS не попала в данный период."
   ]
  },
  {
   "cell_type": "markdown",
   "id": "797b9e7a",
   "metadata": {},
   "source": [
    "Теперь посмотрим их графики за выбранный нами актуальный период."
   ]
  },
  {
   "cell_type": "code",
   "execution_count": 28,
   "id": "e95a5ad8",
   "metadata": {},
   "outputs": [
    {
     "data": {
      "image/png": "[encoded data removed]",
      "text/plain": [
       "<Figure size 720x432 with 1 Axes>"
      ]
     },
     "metadata": {
      "needs_background": "light"
     },
     "output_type": "display_data"
    }
   ],
   "source": [
    "df = df.query('year_of_release >= 2014')\n",
    "\n",
    "plt.figure(figsize=(10, 6))\n",
    "\n",
    "for platform in top_platform['platform']:\n",
    "    df_platform = df[(df['platform'] == platform) & (df['year_of_release'] >= 2014)]\n",
    "    df_platform = df_platform.groupby('year_of_release')['sale'].sum()\n",
    "    plt.plot(df_platform.index, df_platform.values, label=platform)\n",
    "    \n",
    "plt.xlabel('Год')\n",
    "plt.ylabel('Продажи')\n",
    "plt.title('Распределение продаж по годам для топ-платформ после 2014 года')\n",
    "plt.legend()\n",
    "plt.show()"
   ]
  },
  {
   "cell_type": "markdown",
   "id": "74d9633b",
   "metadata": {},
   "source": [
    "Как мы видим, на графике три платформы: X360, Wii, PS3. Их прибыли падают."
   ]
  },
  {
   "cell_type": "markdown",
   "id": "47f9efdd",
   "metadata": {},
   "source": [
    "Построим график «ящик с усами» по глобальным продажам игр в разбивке по платформам."
   ]
  },
  {
   "cell_type": "code",
   "execution_count": 29,
   "id": "b27d4ae4",
   "metadata": {},
   "outputs": [
    {
     "data": {
      "text/plain": [
       "Text(0.5, 1.0, 'Ящик с усами')"
      ]
     },
     "execution_count": 29,
     "metadata": {},
     "output_type": "execute_result"
    },
    {
     "data": {
      "image/png": "[encoded data removed]",
      "text/plain": [
       "<Figure size 864x432 with 1 Axes>"
      ]
     },
     "metadata": {
      "needs_background": "light"
     },
     "output_type": "display_data"
    }
   ],
   "source": [
    "plt.figure(figsize=(12, 6))\n",
    "top_platform = df[df['platform'].isin(['X360', 'PS3', 'Wii'])]\n",
    "sns.boxplot(data=top_platform, x='platform', y='sale', showfliers=False)\n",
    "plt.xlabel('Платформа', fontsize=13)\n",
    "plt.ylabel('Продажи', fontsize=13)\n",
    "plt.title('Ящик с усами', fontsize=16)"
   ]
  },
  {
   "cell_type": "code",
   "execution_count": 30,
   "id": "e8dd4bd1",
   "metadata": {},
   "outputs": [
    {
     "data": {
      "text/plain": [
       "<AxesSubplot:>"
      ]
     },
     "execution_count": 30,
     "metadata": {},
     "output_type": "execute_result"
    },
    {
     "data": {
      "image/png": "[encoded data removed]",
      "text/plain": [
       "<Figure size 432x288 with 1 Axes>"
      ]
     },
     "metadata": {
      "needs_background": "light"
     },
     "output_type": "display_data"
    }
   ],
   "source": [
    "(df\n",
    " .query('platform == \"PS3\"')\n",
    " .boxplot(column='sale')\n",
    ")"
   ]
  },
  {
   "cell_type": "code",
   "execution_count": 31,
   "id": "dae0dfbf",
   "metadata": {},
   "outputs": [
    {
     "data": {
      "text/plain": [
       "<AxesSubplot:>"
      ]
     },
     "execution_count": 31,
     "metadata": {},
     "output_type": "execute_result"
    },
    {
     "data": {
      "image/png": "[encoded data removed]",
      "text/plain": [
       "<Figure size 432x288 with 1 Axes>"
      ]
     },
     "metadata": {
      "needs_background": "light"
     },
     "output_type": "display_data"
    }
   ],
   "source": [
    "(df\n",
    " .query('platform == \"X360\"')\n",
    " .boxplot(column='sale')\n",
    ")"
   ]
  },
  {
   "cell_type": "code",
   "execution_count": 32,
   "id": "0de96abd",
   "metadata": {},
   "outputs": [
    {
     "data": {
      "text/plain": [
       "<AxesSubplot:>"
      ]
     },
     "execution_count": 32,
     "metadata": {},
     "output_type": "execute_result"
    },
    {
     "data": {
      "image/png": "[encoded data removed]",
      "text/plain": [
       "<Figure size 432x288 with 1 Axes>"
      ]
     },
     "metadata": {
      "needs_background": "light"
     },
     "output_type": "display_data"
    }
   ],
   "source": [
    "(df\n",
    " .query('platform == \"Wii\"')\n",
    " .boxplot(column='sale')\n",
    ")"
   ]
  },
  {
   "cell_type": "markdown",
   "id": "674afac7",
   "metadata": {},
   "source": [
    "Проанализируем наши графики:\n",
    "1. График PS3:\n",
    "* видим небольшое количество выбросов.\n",
    "* Медианное значение меньше 0.1\n",
    "2. График X360:\n",
    "* видим небольшое количество выбросов.\n",
    "* Медианное значение равно примерно 0.1\n",
    "3. График Wii:\n",
    "* видим очень маленькое количество выбросов.\n",
    "* Медианное значение равно примерно 0.20"
   ]
  },
  {
   "cell_type": "markdown",
   "id": "9f57edeb",
   "metadata": {},
   "source": [
    "Посмотрим, как влияют на продажи внутри одной популярной платформы отзывы пользователей и критиков."
   ]
  },
  {
   "cell_type": "code",
   "execution_count": 33,
   "id": "687fe91f",
   "metadata": {},
   "outputs": [
    {
     "data": {
      "text/plain": [
       "<Figure size 864x360 with 0 Axes>"
      ]
     },
     "metadata": {},
     "output_type": "display_data"
    },
    {
     "data": {
      "image/png": "[encoded data removed]",
      "text/plain": [
       "<Figure size 720x288 with 2 Axes>"
      ]
     },
     "metadata": {
      "needs_background": "light"
     },
     "output_type": "display_data"
    },
    {
     "data": {
      "text/plain": [
       "<Figure size 1080x432 with 0 Axes>"
      ]
     },
     "metadata": {},
     "output_type": "display_data"
    },
    {
     "name": "stdout",
     "output_type": "stream",
     "text": [
      "Корреляция между отзывами пользователей и платформой PS2: nan\n",
      "Корреляция между критиками и платформой PS2: nan\n"
     ]
    },
    {
     "data": {
      "text/plain": [
       "<Figure size 864x360 with 0 Axes>"
      ]
     },
     "metadata": {},
     "output_type": "display_data"
    },
    {
     "data": {
      "image/png": "[encoded data removed]",
      "text/plain": [
       "<Figure size 720x288 with 2 Axes>"
      ]
     },
     "metadata": {
      "needs_background": "light"
     },
     "output_type": "display_data"
    },
    {
     "data": {
      "text/plain": [
       "<Figure size 1080x432 with 0 Axes>"
      ]
     },
     "metadata": {},
     "output_type": "display_data"
    },
    {
     "name": "stdout",
     "output_type": "stream",
     "text": [
      "Корреляция между отзывами пользователей и платформой X360: 0.33651362483599345\n",
      "Корреляция между критиками и платформой X360: 0.5257228356581523\n"
     ]
    },
    {
     "data": {
      "text/plain": [
       "<Figure size 864x360 with 0 Axes>"
      ]
     },
     "metadata": {},
     "output_type": "display_data"
    },
    {
     "data": {
      "image/png": "[encoded data removed]",
      "text/plain": [
       "<Figure size 720x288 with 2 Axes>"
      ]
     },
     "metadata": {
      "needs_background": "light"
     },
     "output_type": "display_data"
    },
    {
     "data": {
      "text/plain": [
       "<Figure size 1080x432 with 0 Axes>"
      ]
     },
     "metadata": {},
     "output_type": "display_data"
    },
    {
     "name": "stdout",
     "output_type": "stream",
     "text": [
      "Корреляция между отзывами пользователей и платформой PS3: 0.15659516181359956\n",
      "Корреляция между критиками и платформой PS3: 0.44657460493190704\n"
     ]
    },
    {
     "data": {
      "text/plain": [
       "<Figure size 864x360 with 0 Axes>"
      ]
     },
     "metadata": {},
     "output_type": "display_data"
    },
    {
     "data": {
      "image/png": "[encoded data removed]",
      "text/plain": [
       "<Figure size 720x288 with 2 Axes>"
      ]
     },
     "metadata": {
      "needs_background": "light"
     },
     "output_type": "display_data"
    },
    {
     "data": {
      "text/plain": [
       "<Figure size 1080x432 with 0 Axes>"
      ]
     },
     "metadata": {},
     "output_type": "display_data"
    },
    {
     "name": "stdout",
     "output_type": "stream",
     "text": [
      "Корреляция между отзывами пользователей и платформой Wii: nan\n",
      "Корреляция между критиками и платформой Wii: nan\n"
     ]
    },
    {
     "data": {
      "text/plain": [
       "<Figure size 864x360 with 0 Axes>"
      ]
     },
     "metadata": {},
     "output_type": "display_data"
    },
    {
     "data": {
      "image/png": "[encoded data removed]",
      "text/plain": [
       "<Figure size 720x288 with 2 Axes>"
      ]
     },
     "metadata": {
      "needs_background": "light"
     },
     "output_type": "display_data"
    },
    {
     "data": {
      "text/plain": [
       "<Figure size 1080x432 with 0 Axes>"
      ]
     },
     "metadata": {},
     "output_type": "display_data"
    },
    {
     "name": "stdout",
     "output_type": "stream",
     "text": [
      "Корреляция между отзывами пользователей и платформой DS: nan\n",
      "Корреляция между критиками и платформой DS: nan\n"
     ]
    },
    {
     "data": {
      "text/plain": [
       "<Figure size 864x360 with 0 Axes>"
      ]
     },
     "metadata": {},
     "output_type": "display_data"
    },
    {
     "data": {
      "image/png": "[encoded data removed]",
      "text/plain": [
       "<Figure size 720x288 with 2 Axes>"
      ]
     },
     "metadata": {
      "needs_background": "light"
     },
     "output_type": "display_data"
    },
    {
     "data": {
      "text/plain": [
       "<Figure size 1080x432 with 0 Axes>"
      ]
     },
     "metadata": {},
     "output_type": "display_data"
    },
    {
     "name": "stdout",
     "output_type": "stream",
     "text": [
      "Корреляция между отзывами пользователей и платформой PS: nan\n",
      "Корреляция между критиками и платформой PS: nan\n"
     ]
    }
   ],
   "source": [
    "#функция для рассчета корреляции и построения графика\n",
    "def influence (platform):\n",
    "    \n",
    "    #мы ставили маркер 1000, потому условие < 1000\n",
    "    data = top_platform[\n",
    "        (top_platform['platform'] == platform) \n",
    "        & (top_platform['user_score'] <1000) \n",
    "        & (top_platform['critic_score'] <1000)]\n",
    "    \n",
    "    correlation_user = data['user_score'].corr(data['sale'])\n",
    "    correlation_critic = data['critic_score'].corr(data['sale'])\n",
    "    \n",
    "    plt.figure(figsize=(12,5))\n",
    "    fig, ax = plt.subplots(1, 2, figsize=(10, 4))\n",
    "    sns.scatterplot(x='user_score', y='sale', data=data, ax=ax[0])\n",
    "    sns.scatterplot(x='critic_score', y='sale', data=data, ax=ax[1])\n",
    "    \n",
    "    plt.figure(figsize=(15,6))\n",
    "    fig.suptitle(platform, fontsize=15)\n",
    "    \n",
    "    ax[0].set(xlabel='User score')\n",
    "    ax[1].set(xlabel='Critic score')\n",
    "    ax[0].set(ylabel='Number of sales')\n",
    "    ax[1].set(ylabel='Number of sales')\n",
    "    plt.show()\n",
    "    \n",
    "    print(f'Корреляция между отзывами пользователей и платформой {platform}:', correlation_user)\n",
    "    print(f'Корреляция между критиками и платформой {platform}:', correlation_critic)\n",
    "\n",
    "\n",
    "for platform in top_platforms:\n",
    "    influence(platform)"
   ]
  },
  {
   "cell_type": "markdown",
   "id": "51b2eff1",
   "metadata": {},
   "source": [
    "Мы видим, что платформы имеют более выраженную корреляцию с оценкой критиков, чем с отзывами пользователей. Пустые графики показывают, что нет данных за выбранный нами актуальный период."
   ]
  },
  {
   "cell_type": "markdown",
   "id": "8730611a",
   "metadata": {},
   "source": [
    "Посмотрим на общее распределение игр по жанрам:\n",
    "* Что можно сказать о самых прибыльных жанрах? \n",
    "* Выделяются ли жанры с высокими и низкими продажами?"
   ]
  },
  {
   "cell_type": "code",
   "execution_count": 34,
   "id": "28ff1136",
   "metadata": {},
   "outputs": [
    {
     "data": {
      "text/html": [
       "<div>\n",
       "<style scoped>\n",
       "    .dataframe tbody tr th:only-of-type {\n",
       "        vertical-align: middle;\n",
       "    }\n",
       "\n",
       "    .dataframe tbody tr th {\n",
       "        vertical-align: top;\n",
       "    }\n",
       "\n",
       "    .dataframe thead th {\n",
       "        text-align: right;\n",
       "    }\n",
       "</style>\n",
       "<table border=\"1\" class=\"dataframe\">\n",
       "  <thead>\n",
       "    <tr style=\"text-align: right;\">\n",
       "      <th></th>\n",
       "      <th>genre</th>\n",
       "      <th>sale</th>\n",
       "    </tr>\n",
       "  </thead>\n",
       "  <tbody>\n",
       "    <tr>\n",
       "      <th>0</th>\n",
       "      <td>Shooter</td>\n",
       "      <td>0.515</td>\n",
       "    </tr>\n",
       "    <tr>\n",
       "      <th>1</th>\n",
       "      <td>Sports</td>\n",
       "      <td>0.180</td>\n",
       "    </tr>\n",
       "    <tr>\n",
       "      <th>2</th>\n",
       "      <td>Platform</td>\n",
       "      <td>0.140</td>\n",
       "    </tr>\n",
       "    <tr>\n",
       "      <th>3</th>\n",
       "      <td>Fighting</td>\n",
       "      <td>0.125</td>\n",
       "    </tr>\n",
       "    <tr>\n",
       "      <th>4</th>\n",
       "      <td>Role-Playing</td>\n",
       "      <td>0.110</td>\n",
       "    </tr>\n",
       "    <tr>\n",
       "      <th>5</th>\n",
       "      <td>Simulation</td>\n",
       "      <td>0.100</td>\n",
       "    </tr>\n",
       "    <tr>\n",
       "      <th>6</th>\n",
       "      <td>Action</td>\n",
       "      <td>0.090</td>\n",
       "    </tr>\n",
       "    <tr>\n",
       "      <th>7</th>\n",
       "      <td>Misc</td>\n",
       "      <td>0.090</td>\n",
       "    </tr>\n",
       "    <tr>\n",
       "      <th>8</th>\n",
       "      <td>Racing</td>\n",
       "      <td>0.090</td>\n",
       "    </tr>\n",
       "    <tr>\n",
       "      <th>9</th>\n",
       "      <td>Strategy</td>\n",
       "      <td>0.060</td>\n",
       "    </tr>\n",
       "    <tr>\n",
       "      <th>10</th>\n",
       "      <td>Puzzle</td>\n",
       "      <td>0.045</td>\n",
       "    </tr>\n",
       "    <tr>\n",
       "      <th>11</th>\n",
       "      <td>Adventure</td>\n",
       "      <td>0.030</td>\n",
       "    </tr>\n",
       "  </tbody>\n",
       "</table>\n",
       "</div>"
      ],
      "text/plain": [
       "           genre   sale\n",
       "0        Shooter  0.515\n",
       "1         Sports  0.180\n",
       "2       Platform  0.140\n",
       "3       Fighting  0.125\n",
       "4   Role-Playing  0.110\n",
       "5     Simulation  0.100\n",
       "6         Action  0.090\n",
       "7           Misc  0.090\n",
       "8         Racing  0.090\n",
       "9       Strategy  0.060\n",
       "10        Puzzle  0.045\n",
       "11     Adventure  0.030"
      ]
     },
     "execution_count": 34,
     "metadata": {},
     "output_type": "execute_result"
    }
   ],
   "source": [
    "df_genre = (df\n",
    "            .pivot_table(index='genre', values='sale', aggfunc='median')\n",
    "            .sort_values(by='sale', ascending=False)\n",
    "            .reset_index()\n",
    "           )\n",
    "df_genre"
   ]
  },
  {
   "cell_type": "code",
   "execution_count": 35,
   "id": "52bfac13",
   "metadata": {},
   "outputs": [
    {
     "data": {
      "text/plain": [
       "Text(0.5, 1.0, 'Распределение продаж игр в зависимости от жанра')"
      ]
     },
     "execution_count": 35,
     "metadata": {},
     "output_type": "execute_result"
    },
    {
     "data": {
      "image/png": "[encoded data removed]",
      "text/plain": [
       "<Figure size 432x288 with 1 Axes>"
      ]
     },
     "metadata": {
      "needs_background": "light"
     },
     "output_type": "display_data"
    }
   ],
   "source": [
    "df_genre.plot.bar(x='genre', y='sale', grid=True)\n",
    "plt.xlabel('Жанр игры')\n",
    "plt.ylabel('Количество продаж')\n",
    "plt.title('Распределение продаж игр в зависимости от жанра')"
   ]
  },
  {
   "cell_type": "markdown",
   "id": "95d196f8",
   "metadata": {},
   "source": [
    "Самым популярным жанром является Shooter с огромным отрывом! Далее идут Sports, Platform.  Наименее популярными - Strategy, Puzzle, Adventure."
   ]
  },
  {
   "cell_type": "markdown",
   "id": "41f578fa",
   "metadata": {},
   "source": [
    "**Выводы:**\n",
    "1. Заметно игры стали выпускаться где-то с начала 1980-х годов. Выпуски игр начинают расти с 1995 и дальше идут в гору с переменным падением.  Заметные глобальные продажи игр можно наблюдать с 2005 года. \n",
    "2. Самые поуплярные платформы: PS2, X360, PS3, Wii, DS, PS.\n",
    "3. Средний срок слубжбы платформы ~ 9 лет.\n",
    "4. Максимальные продажи у  платформ X360 и PS3. \n",
    "5. Самым популярным жанром является Shooter. Далее Sports, Platform. Наименее популярными - Strategy, Puzzle, Adventure."
   ]
  },
  {
   "cell_type": "markdown",
   "id": "eb7754f3",
   "metadata": {},
   "source": [
    "## Составление портрета пользователя каждого региона"
   ]
  },
  {
   "cell_type": "markdown",
   "id": "8fddaa0c",
   "metadata": {},
   "source": [
    "Определим для пользователя каждого региона (NA, EU, JP):\n",
    "* Самые популярные платформы (топ-5). \n",
    "* Самые популярные жанры (топ-5). \n",
    "* Влияет ли рейтинг ESRB на продажи в отдельном регионе?"
   ]
  },
  {
   "cell_type": "markdown",
   "id": "c7a1e345",
   "metadata": {},
   "source": [
    "Определим популярные платформы в регионах."
   ]
  },
  {
   "cell_type": "code",
   "execution_count": 36,
   "id": "781b324d",
   "metadata": {},
   "outputs": [],
   "source": [
    "def popular(df, sale, title):\n",
    "    game = df.groupby('platform').agg({sale : 'sum'}).sort_values(by=sale, ascending=False).head(5)\n",
    "    game.plot(kind='bar', grid=True)\n",
    "    plt.xlabel('Название платформы')\n",
    "    plt.ylabel('Количество продаж')\n",
    "    plt.title(f'{title}', fontsize=15)\n",
    "    plt.legend()\n",
    "    plt.show()\n",
    "    \n",
    "    print()\n",
    "    print()\n",
    "    \n",
    "    game.plot(kind='pie', autopct='%.1f%%', subplots=True)\n",
    "    plt.legend(bbox_to_anchor=(1, 0.6))\n",
    "    \n",
    "    plt.title('Соотношение платформ', fontsize=15)\n",
    "    plt.show()"
   ]
  },
  {
   "cell_type": "code",
   "execution_count": 37,
   "id": "ba9aac7a",
   "metadata": {},
   "outputs": [
    {
     "data": {
      "image/png": "[encoded data removed]",
      "text/plain": [
       "<Figure size 432x288 with 1 Axes>"
      ]
     },
     "metadata": {
      "needs_background": "light"
     },
     "output_type": "display_data"
    },
    {
     "name": "stdout",
     "output_type": "stream",
     "text": [
      "\n",
      "\n"
     ]
    },
    {
     "data": {
      "image/png": "[encoded data removed]",
      "text/plain": [
       "<Figure size 432x288 with 1 Axes>"
      ]
     },
     "metadata": {},
     "output_type": "display_data"
    }
   ],
   "source": [
    "popular(\n",
    "    df, \n",
    "    'na_sales',\n",
    "    'Самые популярные платформы в Северной Америке'\n",
    ")"
   ]
  },
  {
   "cell_type": "markdown",
   "id": "a3a09457",
   "metadata": {},
   "source": [
    "Самые популярные платформы в Северной Америке PS4, X360, XOne, 3DS, PS3. По круговой диаграмме видно, что PS4 лидирует с неплохим отрывом от XOne (разница между ними составляет 6.9%)"
   ]
  },
  {
   "cell_type": "code",
   "execution_count": 38,
   "id": "a3fa6fe0",
   "metadata": {},
   "outputs": [
    {
     "data": {
      "image/png": "[encoded data removed]",
      "text/plain": [
       "<Figure size 432x288 with 1 Axes>"
      ]
     },
     "metadata": {
      "needs_background": "light"
     },
     "output_type": "display_data"
    },
    {
     "name": "stdout",
     "output_type": "stream",
     "text": [
      "\n",
      "\n"
     ]
    },
    {
     "data": {
      "image/png": "[encoded data removed]",
      "text/plain": [
       "<Figure size 432x288 with 1 Axes>"
      ]
     },
     "metadata": {},
     "output_type": "display_data"
    }
   ],
   "source": [
    "popular(\n",
    "    df, \n",
    "    'eu_sales',\n",
    "    'Самые популярные платформы в Европе'\n",
    ")"
   ]
  },
  {
   "cell_type": "markdown",
   "id": "cbaee808",
   "metadata": {},
   "source": [
    "Самыми популярными платформами в Европе являются PS4, XOne, PS3, PC, 3DS. С большим отрывом вырывается PS4 с разницой 35.5% от XOne. "
   ]
  },
  {
   "cell_type": "code",
   "execution_count": 39,
   "id": "4b71dee0",
   "metadata": {},
   "outputs": [
    {
     "data": {
      "image/png": "[encoded data removed]",
      "text/plain": [
       "<Figure size 432x288 with 1 Axes>"
      ]
     },
     "metadata": {
      "needs_background": "light"
     },
     "output_type": "display_data"
    },
    {
     "name": "stdout",
     "output_type": "stream",
     "text": [
      "\n",
      "\n"
     ]
    },
    {
     "data": {
      "image/png": "[encoded data removed]",
      "text/plain": [
       "<Figure size 432x288 with 1 Axes>"
      ]
     },
     "metadata": {},
     "output_type": "display_data"
    }
   ],
   "source": [
    "popular(\n",
    "    df, \n",
    "    'jp_sales',\n",
    "    'Самые популярные платформы в Японии'\n",
    ")"
   ]
  },
  {
   "cell_type": "markdown",
   "id": "65f97c1c",
   "metadata": {},
   "source": [
    "Самые популярные платформы в Японии 3DS, PS4, PSV, PS3, WiiU. Платформа 3DS вырывается вперед с отрывом 31.6%. Также в Японии самые низкие продажи."
   ]
  },
  {
   "cell_type": "markdown",
   "id": "b86909a2",
   "metadata": {},
   "source": [
    "**Вывод:** в Северной Америке и Европе схожие вкусы на выбор платформы. В Японии предпочитают другие. Например, PSV, WiiU. Эти платформы не встречались в топ-5 популярных платформах в дргуих регионах. Также в Японии не пользуются такой популярностью игровые платформы."
   ]
  },
  {
   "cell_type": "markdown",
   "id": "ab2378c5",
   "metadata": {},
   "source": [
    "Посмотрим на жанры в регионах и проанализруем."
   ]
  },
  {
   "cell_type": "code",
   "execution_count": 40,
   "id": "7e2f5697",
   "metadata": {},
   "outputs": [],
   "source": [
    "def genre(df, sale, title):\n",
    "    game = df.groupby('genre').agg({sale : 'sum'}).sort_values(by=sale, ascending=False).head(5)\n",
    "    game.plot(kind='bar', grid=True)\n",
    "    plt.xlabel('Название жанра')\n",
    "    plt.ylabel('Количество продаж')\n",
    "    plt.title(f'{title}', fontsize=15)\n",
    "    plt.show()\n",
    "    \n",
    "    print()\n",
    "    print()\n",
    "    \n",
    "    game.plot(kind='pie', autopct='%.1f%%', subplots=True)\n",
    "    plt.legend(bbox_to_anchor=(1, 0.9))\n",
    "    \n",
    "    plt.title('Соотношение жанров', fontsize=15)\n",
    "    plt.show()"
   ]
  },
  {
   "cell_type": "code",
   "execution_count": 41,
   "id": "0b535ea2",
   "metadata": {},
   "outputs": [
    {
     "data": {
      "image/png": "[encoded data removed]",
      "text/plain": [
       "<Figure size 432x288 with 1 Axes>"
      ]
     },
     "metadata": {
      "needs_background": "light"
     },
     "output_type": "display_data"
    },
    {
     "name": "stdout",
     "output_type": "stream",
     "text": [
      "\n",
      "\n"
     ]
    },
    {
     "data": {
      "image/png": "[encoded data removed]",
      "text/plain": [
       "<Figure size 432x288 with 1 Axes>"
      ]
     },
     "metadata": {},
     "output_type": "display_data"
    }
   ],
   "source": [
    "genre(\n",
    "    df, \n",
    "    'na_sales',\n",
    "    'Самые популярные жанры в Северной Америке'\n",
    ")"
   ]
  },
  {
   "cell_type": "code",
   "execution_count": 42,
   "id": "6755538f",
   "metadata": {},
   "outputs": [
    {
     "data": {
      "image/png": "[encoded data removed]",
      "text/plain": [
       "<Figure size 432x288 with 1 Axes>"
      ]
     },
     "metadata": {
      "needs_background": "light"
     },
     "output_type": "display_data"
    },
    {
     "name": "stdout",
     "output_type": "stream",
     "text": [
      "\n",
      "\n"
     ]
    },
    {
     "data": {
      "image/png": "[encoded data removed]",
      "text/plain": [
       "<Figure size 432x288 with 1 Axes>"
      ]
     },
     "metadata": {},
     "output_type": "display_data"
    }
   ],
   "source": [
    "genre(\n",
    "    df, \n",
    "    'eu_sales',\n",
    "    'Самые популярные жанры в Европе'\n",
    ")"
   ]
  },
  {
   "cell_type": "code",
   "execution_count": 43,
   "id": "1319ddb9",
   "metadata": {},
   "outputs": [
    {
     "data": {
      "image/png": "[encoded data removed]",
      "text/plain": [
       "<Figure size 432x288 with 1 Axes>"
      ]
     },
     "metadata": {
      "needs_background": "light"
     },
     "output_type": "display_data"
    },
    {
     "name": "stdout",
     "output_type": "stream",
     "text": [
      "\n",
      "\n"
     ]
    },
    {
     "data": {
      "image/png": "[encoded data removed]",
      "text/plain": [
       "<Figure size 432x288 with 1 Axes>"
      ]
     },
     "metadata": {},
     "output_type": "display_data"
    }
   ],
   "source": [
    "genre(\n",
    "    df, \n",
    "    'jp_sales',\n",
    "    'Самые популярные жанры в Японии'\n",
    ")"
   ]
  },
  {
   "cell_type": "markdown",
   "id": "8e3b12a1",
   "metadata": {},
   "source": [
    "**Вывод:** Самыми популярными жанрами в Северной Америке являются Shooter, Action, Sports, в Европе Action, Shooter, Sports. В Японии Role-Playing и Action. Если в Северной Америке и Европе различия между местами жанров более плавное, то в Японии наблюдается большой разрыв между первыми двумя жанрами и остальными: разница в продажах отличается в 4 раза!"
   ]
  },
  {
   "cell_type": "markdown",
   "id": "b5f69d77",
   "metadata": {},
   "source": [
    "Теперь проверим, влияет ли рейтинг ESRB на продажи в отдельном регионе."
   ]
  },
  {
   "cell_type": "code",
   "execution_count": 44,
   "id": "6bf8ca8e",
   "metadata": {},
   "outputs": [
    {
     "data": {
      "text/html": [
       "<div>\n",
       "<style scoped>\n",
       "    .dataframe tbody tr th:only-of-type {\n",
       "        vertical-align: middle;\n",
       "    }\n",
       "\n",
       "    .dataframe tbody tr th {\n",
       "        vertical-align: top;\n",
       "    }\n",
       "\n",
       "    .dataframe thead th {\n",
       "        text-align: right;\n",
       "    }\n",
       "</style>\n",
       "<table border=\"1\" class=\"dataframe\">\n",
       "  <thead>\n",
       "    <tr style=\"text-align: right;\">\n",
       "      <th></th>\n",
       "      <th>na_sales</th>\n",
       "    </tr>\n",
       "    <tr>\n",
       "      <th>rating</th>\n",
       "      <th></th>\n",
       "    </tr>\n",
       "  </thead>\n",
       "  <tbody>\n",
       "    <tr>\n",
       "      <th>M</th>\n",
       "      <td>96.42</td>\n",
       "    </tr>\n",
       "    <tr>\n",
       "      <th>1000</th>\n",
       "      <td>64.72</td>\n",
       "    </tr>\n",
       "    <tr>\n",
       "      <th>E</th>\n",
       "      <td>50.74</td>\n",
       "    </tr>\n",
       "    <tr>\n",
       "      <th>T</th>\n",
       "      <td>38.95</td>\n",
       "    </tr>\n",
       "    <tr>\n",
       "      <th>E10+</th>\n",
       "      <td>33.23</td>\n",
       "    </tr>\n",
       "  </tbody>\n",
       "</table>\n",
       "</div>"
      ],
      "text/plain": [
       "        na_sales\n",
       "rating          \n",
       "M          96.42\n",
       "1000       64.72\n",
       "E          50.74\n",
       "T          38.95\n",
       "E10+       33.23"
      ]
     },
     "execution_count": 44,
     "metadata": {},
     "output_type": "execute_result"
    }
   ],
   "source": [
    "#маркер 1000, потому его не учитываем!\n",
    "df.groupby('rating').agg({'na_sales' : 'sum'}).sort_values('na_sales', ascending=False)"
   ]
  },
  {
   "cell_type": "code",
   "execution_count": 45,
   "id": "854040f2",
   "metadata": {},
   "outputs": [],
   "source": [
    "def rating(df, sale, title):\n",
    "    \n",
    "    game = df.groupby('rating').agg({sale : 'sum'}).sort_values(by=sale, ascending=False)\n",
    "    game.plot(kind='bar', grid=True)\n",
    "    plt.xlabel('Возрастное ограничение')\n",
    "    plt.ylabel('Количество продаж')\n",
    "    plt.title(f'{title}', fontsize=15)\n",
    "    plt.show()"
   ]
  },
  {
   "cell_type": "code",
   "execution_count": 46,
   "id": "2a8d4f31",
   "metadata": {},
   "outputs": [
    {
     "data": {
      "image/png": "[encoded data removed]",
      "text/plain": [
       "<Figure size 432x288 with 1 Axes>"
      ]
     },
     "metadata": {
      "needs_background": "light"
     },
     "output_type": "display_data"
    }
   ],
   "source": [
    "rating(\n",
    "    df, \n",
    "    'na_sales',\n",
    "    'ERSB в Северной Америке'\n",
    ")"
   ]
  },
  {
   "cell_type": "code",
   "execution_count": 47,
   "id": "6aad3ac7",
   "metadata": {},
   "outputs": [
    {
     "data": {
      "image/png": "[encoded data removed]",
      "text/plain": [
       "<Figure size 432x288 with 1 Axes>"
      ]
     },
     "metadata": {
      "needs_background": "light"
     },
     "output_type": "display_data"
    }
   ],
   "source": [
    "rating(\n",
    "    df, \n",
    "    'eu_sales',\n",
    "    'ERSB в Европе'\n",
    ")"
   ]
  },
  {
   "cell_type": "code",
   "execution_count": 48,
   "id": "9fa9fec9",
   "metadata": {},
   "outputs": [
    {
     "data": {
      "image/png": "[encoded data removed]",
      "text/plain": [
       "<Figure size 432x288 with 1 Axes>"
      ]
     },
     "metadata": {
      "needs_background": "light"
     },
     "output_type": "display_data"
    }
   ],
   "source": [
    "rating(\n",
    "    df, \n",
    "    'jp_sales',\n",
    "    'ERSB в Японии'\n",
    ")"
   ]
  },
  {
   "cell_type": "markdown",
   "id": "23af269f",
   "metadata": {},
   "source": [
    "У Северной Америке и Европы совпадают первые пять по популярности рейтинги: M, без рейтинга, E, T, E10+. В Японии на первом месте с большим отрывом стоит \"без рейтинга\" (на нашем графике - это \"1000\"). Возможно, в Японии есть своя система оценивания ограничения по возрасту."
   ]
  },
  {
   "cell_type": "markdown",
   "id": "12a4c034",
   "metadata": {},
   "source": [
    "**Общий вывод**:\n",
    "* Портрет пользователя Северной Америки:\n",
    "1. Самые популярные платформы в Северной Америке PS4, X360, XOne, 3DS, PS3.  PS4 лидирует с неплохим отрывом от XOne (разница между ними составляет 6.9%)\n",
    "2. Здесь предпочитают такие жанры, как Shooter, Action, Sports.\n",
    "3. У Северной Америке первые пять по популярности рейтинги: M, без рейтинга, E, T, E10+. \n",
    "\n",
    "* Портрет пользователя Европы:\n",
    "1. Самыми популярными платформами в Европе являются PS4, XOne, PS3, PC, 3DS. С большим отрывом вырывается PS4 с разницой 35.5% от XOne.\n",
    "2. В Европе предпочитают такие жанры, как Action, Shooter, Sports.\n",
    "3. У Европы первые пять по популярности рейтинги: M, без рейтинга, E, T, E10+. \n",
    "\n",
    "* Портрет пользователя Японии:\n",
    "1. Самые популярные платформы в Японии 3DS, PS4, PSV, PS3, WiiU. Платформа 3DS вырывается вперед с отрывом 31.6%. Также в Японии самые низкие продажи. \n",
    "2. В Японии Role-Playing и Action. Наблюдается большой разрыв между первыми двумя жанрами и остальными: разница в продажах отличается в 4 раза!\n",
    "3. В Японии на первом месте с большим отрывом стоит \"без рейтинга\". Японская индустрия видеоигр имеет свою собственную систему саморегулирования, называемую CERO (Computer Entertainment Rating Organization). Система CERO классифицирует игры по их содержанию и рекомендует возрастные ограничения для каждой игры. Это означает, что японские разработчики игр могут создавать игры с более взрослым содержанием, не опасаясь вмешательства со стороны правительства.\n",
    "\n",
    "Можно сделать общий вывод о том, что портрет пользователей Северной Америки и Европы имеют много общего. У них наблюдаются схожести в выборе жанра, платформы. В Японии игры не так популярны, как в других двух регионах."
   ]
  },
  {
   "cell_type": "markdown",
   "id": "66b3ff7b",
   "metadata": {},
   "source": [
    "## Проверка гипотезы:\n",
    "\n",
    "**Гипотеза 1:**  Средние пользовательские рейтинги платформ Xbox One и PC одинаковые."
   ]
  },
  {
   "cell_type": "markdown",
   "id": "b84eebb9",
   "metadata": {},
   "source": [
    "Нулевая и альтернаятивная гипотезы:\n",
    "\n",
    "1. Н0: Средние пользовательские рейтинги платформ Xbox One и PC одинаковые.\n",
    "2. Н1: Средние пользовательские рейтинги платформ Xbox One и PC неодинаковые."
   ]
  },
  {
   "cell_type": "code",
   "execution_count": 49,
   "id": "8c94d2fc",
   "metadata": {},
   "outputs": [
    {
     "name": "stdout",
     "output_type": "stream",
     "text": [
      "Средние пользовательские рейтинги платформ Xbox One = 6.594545454545453 и PC = 6.298360655737703\n",
      "\n",
      "p-значение: 0.11601398086668832\n",
      "Не получилось отвергуть нулевую гипотезу\n"
     ]
    }
   ],
   "source": [
    "alpha = .01\n",
    "\n",
    "xbox = df[(df['platform'] == 'XOne')  & (df['year_of_release'] >=2005) & (df['user_score'] < 1000)]['user_score']\n",
    "pc = df[(df['platform'] == 'PC') & (df['year_of_release'] >=2005) & (df['user_score'] < 1000)]['user_score']\n",
    "\n",
    "print(f'Средние пользовательские рейтинги платформ Xbox One = {xbox.mean()} и PC = {pc.mean()}')\n",
    "print()\n",
    "          \n",
    "res = st.ttest_ind(xbox.dropna(), pc.dropna(), equal_var=False)\n",
    "print('p-значение:', res.pvalue)\n",
    "\n",
    "if res.pvalue < alpha:\n",
    "    print('Отвергаем нулевую гипотезу')\n",
    "else:\n",
    "    print('Не получилось отвергуть нулевую гипотезу')"
   ]
  },
  {
   "cell_type": "markdown",
   "id": "7bd87501",
   "metadata": {},
   "source": [
    "**Вывод:** Таким образом, p-value 11%. Не получилось отвергнуть нулевую гипотезу. Это значит, что 11% вероятности получить различные средние рейтинги на платформах Xbox One и PC."
   ]
  },
  {
   "cell_type": "markdown",
   "id": "bf05cb0b",
   "metadata": {},
   "source": [
    "**Гипотеза 2:** Средние пользовательские рейтинги жанров Action (англ. «действие», экшен-игры) и Sports (англ. «спортивные соревнования») разные.\n",
    "\n",
    "Нулевая и альтернаятивная гипотезы:\n",
    "\n",
    "1. Н0: Средние пользовательские рейтинги жанров Action и Sports одинаковые.\n",
    "2. Н1: Средние пользовательские рейтинги жанров Action и Sports разные."
   ]
  },
  {
   "cell_type": "code",
   "execution_count": 50,
   "id": "842bec44",
   "metadata": {},
   "outputs": [
    {
     "name": "stdout",
     "output_type": "stream",
     "text": [
      "Средние пользовательские рейтинги жанров Action = 6.760606060606054 и Sports = 5.225196850393697\n",
      "\n",
      "p-значение: 1.1825550382644557e-14\n",
      "Отвергаем нулевую гипотезу\n"
     ]
    }
   ],
   "source": [
    "alpha = .01\n",
    "\n",
    "action = df[(df['genre'] == 'Action') & (df['user_score'] < 1000)]['user_score']\n",
    "sports = df[(df['genre'] == 'Sports') & (df['user_score'] < 1000)]['user_score']\n",
    "\n",
    "print(f'Средние пользовательские рейтинги жанров Action = {action.mean()} и Sports = {sports.mean()}')\n",
    "print()\n",
    "\n",
    "res = st.ttest_ind(action , sports, equal_var=False)\n",
    "print('p-значение:', res.pvalue)\n",
    "\n",
    "if res.pvalue < alpha:\n",
    "    print('Отвергаем нулевую гипотезу')\n",
    "else:\n",
    "    print('Не получилось отвергуть нулевую гипотезу')"
   ]
  },
  {
   "cell_type": "markdown",
   "id": "a75df999",
   "metadata": {},
   "source": [
    "**Вывод:** Мы отвергаем нулевую гипотезу.  Это значит, что у нас почти нет никакой вероятности получить одинаковые средние  рейтинги жанров Action и Sports."
   ]
  },
  {
   "cell_type": "markdown",
   "id": "6b03ea23",
   "metadata": {},
   "source": [
    "**Общий вывод:** таким образом, мы проверили две гипотезы:\n",
    "1. \"Средние пользовательские рейтинги платформ Xbox One и PC одинаковые\" - мы не смогли отвергнуть нулевую гипотезу. \n",
    "2. \"Средние пользовательские рейтинги жанров Action (англ. «действие», экшен-игры) и Sports (англ. «спортивные соревнования») одинаковые\" - мы отвергли нулевую гипотезу."
   ]
  },
  {
   "cell_type": "markdown",
   "id": "8ff8ee3a",
   "metadata": {},
   "source": [
    "## Итоговый вывод"
   ]
  },
  {
   "cell_type": "markdown",
   "id": "53760cb6",
   "metadata": {},
   "source": [
    "В ходе работы мы сделали следующее:\n",
    "* Обработали данные, привели их к нормальному виду, заполнили пропуски, где это было необходимо, обработали дубликаты.\n",
    "* Определили, что tbd (англ. to be discussed) переводится как \"подлежит уточнению\". Скорее всего, пользователи либо не успели поставить свою оценку, либо забыли изменить ответ, либо техническая ошибка. Возможно, есть данные в другом файле, где указано, какие оценки пользователи поставили вместо tbd, когда определились с ответом. Это стоит уточнить у тех, кто предоставил данные.\n",
    "\n",
    "Заметили следующее: \n",
    "* Заметно игры стали выпускаться где-то с начала 1980-х годов. Выпуски игр начинают расти с 1995 и дальше идут в гору с переменным падением. Заметные глобальные продажи игр можно наблюдать с 2005 года.\n",
    "* Самые популярные платформы:  PS2, X360, PS3, Wii, DS, PS.\n",
    "* Средний срок службы платформы составляет чуть больше 9 лет.\n",
    "* Рассмотрев данные с 2005 года по 2016, мы сделали следующие выводы:\n",
    "\n",
    "\n",
    "* * Пики прибыли платформы X360 выпали на 2008 и 2010 годы.\n",
    "* * Пик прибыли PS3 - 2011 год, далее медленно падает.\n",
    "* * Резкий скачок прибыли платформы Wii, далее такой же разкий спад.\n",
    "* * Неплохая прибыль была у DS в период 2006-2009 года.\n",
    "* * Платформа PS не попала в данный период.\n",
    "* * Максимальные продажи у X360 и PS3.\n",
    "* * Минимальные продажи у DS.\n",
    "* * Успех платформу настигает спустя примерно 5 лет после запуска.\n",
    "\n",
    "* Построив график с 2014 по 2016 мы заметили, что прибыли платформы X360, Wii, PS3 падают. \n",
    "* Платформы PS3, X360 имеют более выраженную корреляцию с оценкой критиков, чем с отзывами пользователей.\n",
    "* Самыми популярными жанрами в Северной Америке являются Shooter, Action, Sports, в Европе Action, Shooter, Sports. В Японии Role-Playing и Action.\n",
    "\n",
    "**После мы составили портрет для каждого региона:**\n",
    "\n",
    "* Портрет пользователя Северной Америки:\n",
    "1. Самые популярные платформы в Северной Америке PS4, X360, XOne, 3DS, PS3.  PS4 лидирует с неплохим отрывом от XOne (разница между ними составляет 6.9%)\n",
    "2. Здесь предпочитают такие жанры, как Shooter, Action, Sports.\n",
    "3. У Северной Америке первые пять по популярности рейтинги: M, без рейтинга, E, T, E10+. \n",
    "\n",
    "* Портрет пользователя Европы:\n",
    "1. Самыми популярными платформами в Европе являются PS4, XOne, PS3, PC, 3DS. С большим отрывом вырывается PS4 с разницой 35.5% от XOne.\n",
    "2. В Европе предпочитают такие жанры, как Action, Shooter, Sports.\n",
    "3. У Европы первые пять по популярности рейтинги: M, без рейтинга, E, T, E10+. \n",
    "\n",
    "* Портрет пользователя Японии:\n",
    "1. Самые популярные платформы в Японии 3DS, PS4, PSV, PS3, WiiU. Платформа 3DS вырывается вперед с отрывом 31.6%. Также в Японии самые низкие продажи. \n",
    "2. В Японии Role-Playing и Action. Наблюдается большой разрыв между первыми двумя жанрами и остальными: разница в продажах отличается в 4 раза!\n",
    "3. В Японии на первом месте с большим отрывом стоит \"без рейтинга\". Японская индустрия видеоигр имеет свою собственную систему саморегулирования, называемую CERO (Computer Entertainment Rating Organization). Система CERO классифицирует игры по их содержанию и рекомендует возрастные ограничения для каждой игры. Это означает, что японские разработчики игр могут создавать игры с более взрослым содержанием, не опасаясь вмешательства со стороны правительства.\n",
    "\n",
    "Можно сделать общий вывод о том, что портрет пользователей Северной Америки и Европы имеют много общего. У них наблюдаются схожести в выборе жанра, платформы. В Японии игры не так популярны, как в других двух регионах.\n",
    "\n",
    "* Мы проверили две гипотезы:\n",
    "\n",
    "1. \"Средние пользовательские рейтинги платформ Xbox One и PC одинаковые\" - не удалось отвергнуть нулевую гипотезу. \n",
    "2. \"Средние пользовательские рейтинги жанров Action (англ. «действие», экшен-игры) и Sports (англ. «спортивные соревнования») одинаковые\" - отвергаем нулевую гипотезу.\n",
    "\n",
    "**Итог**:\n",
    "1. Исходя из всего вышеперечисленного, мы предполагаем, что лучше всего развивать платформы X360 и PS3. Но так как их прибыль падает и плюс к этому мы выяснили, что платформа в среднем \"живет\" около 9-10 лет, возможно, стоит задуматься над созданием новых игровых платформ или выпусить апгрейд этих. \n",
    "2. Так как самыми популярными жанрами являются именно Action, Sports, Shooter, то, возможно, стоит создавать больше контента именно с такой тематикой.\n",
    "3. Большинство покупателей из Северной Америки, возможно, стоит стать более клиентоориентированными именно на этот регион."
   ]
  }
 ],
 "metadata": {
  "kernelspec": {
   "display_name": "Python 3 (ipykernel)",
   "language": "python",
   "name": "python3"
  },
  "language_info": {
   "codemirror_mode": {
    "name": "ipython",
    "version": 3
   },
   "file_extension": ".py",
   "mimetype": "text/x-python",
   "name": "python",
   "nbconvert_exporter": "python",
   "pygments_lexer": "ipython3",
   "version": "3.9.12"
  }
 },
 "nbformat": 4,
 "nbformat_minor": 5
}
